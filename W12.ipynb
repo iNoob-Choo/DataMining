{
 "cells": [
  {
   "cell_type": "code",
   "execution_count": 18,
   "metadata": {
    "collapsed": false
   },
   "outputs": [],
   "source": [
    "import numpy as np\n",
    "from sklearn.cross_validation import KFold\n",
    "\n",
    "x=np.array([[1,2],[3,4],[1,2],[3,4]])\n",
    "t=np.array([1,2,3,4])\n",
    "kf=KFold(n=x.shape[0],n_folds=2)"
   ]
  },
  {
   "cell_type": "code",
   "execution_count": 16,
   "metadata": {
    "collapsed": false
   },
   "outputs": [
    {
     "data": {
      "text/plain": [
       "sklearn.cross_validation.KFold(n=4, n_folds=2, shuffle=False, random_state=None)"
      ]
     },
     "execution_count": 16,
     "metadata": {},
     "output_type": "execute_result"
    }
   ],
   "source": [
    "kf"
   ]
  },
  {
   "cell_type": "code",
   "execution_count": 20,
   "metadata": {
    "collapsed": false
   },
   "outputs": [
    {
     "name": "stdout",
     "output_type": "stream",
     "text": [
      "sklearn.cross_validation.KFold(n=4, n_folds=2, shuffle=False, random_state=None)\n",
      "Train: [2 3] Test: [0 1]\n",
      "Train: [0 1] Test: [2 3]\n"
     ]
    }
   ],
   "source": [
    "print(kf)\n",
    "for train_index,test_index in kf:\n",
    "    print(\"Train:\", train_index, \"Test:\",test_index)\n",
    "    x_train,x_test=x[train_index],x[test_index]\n",
    "    t_train,t_test=t[train_index],t[test_index]"
   ]
  },
  {
   "cell_type": "code",
   "execution_count": 23,
   "metadata": {
    "collapsed": true
   },
   "outputs": [],
   "source": [
    "import sklearn.datasets as datasets\n",
    "digits=datasets.load_digits()\n",
    "img,X,t=digits.images,digits.data,digits.target"
   ]
  },
  {
   "cell_type": "code",
   "execution_count": 28,
   "metadata": {
    "collapsed": true
   },
   "outputs": [],
   "source": [
    "kf=KFold(n=X.shape[0],n_folds=5)"
   ]
  },
  {
   "cell_type": "code",
   "execution_count": 30,
   "metadata": {
    "collapsed": false
   },
   "outputs": [
    {
     "name": "stdout",
     "output_type": "stream",
     "text": [
      "Train: (1437,) Test: (360,)\n",
      "0.866666666667\n",
      "Train: (1437,) Test: (360,)\n",
      "0.9\n",
      "Train: (1438,) Test: (359,)\n",
      "0.930362116992\n",
      "Train: (1438,) Test: (359,)\n",
      "0.961002785515\n",
      "Train: (1438,) Test: (359,)\n",
      "0.874651810585\n"
     ]
    }
   ],
   "source": [
    "from sklearn.linear_model import SGDClassifier\n",
    "from sklearn import metrics\n",
    "\n",
    "for train_index,test_index in kf:\n",
    "    print(\"Train:\",train_index.shape,\"Test:\",test_index.shape)\n",
    "    x_train,x_test=X[train_index],X[test_index]\n",
    "    t_train,t_test=t[train_index],t[test_index]\n",
    "    \n",
    "    clf=SGDClassifier()\n",
    "    clf.fit(x_train,t_train)\n",
    "    y_test=clf.predict(x_test)\n",
    "    \n",
    "    print(metrics.accuracy_score(t_test,y_test))"
   ]
  },
  {
   "cell_type": "code",
   "execution_count": null,
   "metadata": {
    "collapsed": true
   },
   "outputs": [],
   "source": []
  }
 ],
 "metadata": {
  "kernelspec": {
   "display_name": "Python 3",
   "language": "python",
   "name": "python3"
  },
  "language_info": {
   "codemirror_mode": {
    "name": "ipython",
    "version": 3
   },
   "file_extension": ".py",
   "mimetype": "text/x-python",
   "name": "python",
   "nbconvert_exporter": "python",
   "pygments_lexer": "ipython3",
   "version": "3.5.0"
  }
 },
 "nbformat": 4,
 "nbformat_minor": 0
}
