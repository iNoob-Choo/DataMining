{
 "cells": [
  {
   "cell_type": "code",
   "execution_count": 1,
   "metadata": {
    "collapsed": false
   },
   "outputs": [
    {
     "name": "stderr",
     "output_type": "stream",
     "text": [
      "C:\\Users\\User\\Anaconda3\\lib\\site-packages\\sklearn\\cross_validation.py:44: DeprecationWarning: This module was deprecated in version 0.18 in favor of the model_selection module into which all the refactored classes and functions are moved. Also note that the interface of the new CV iterators are different from that of this module. This module will be removed in 0.20.\n",
      "  \"This module will be removed in 0.20.\", DeprecationWarning)\n"
     ]
    }
   ],
   "source": [
    "import numpy as np\n",
    "from sklearn.cross_validation import KFold\n",
    "\n",
    "x=np.array([[1,2],[3,4],[1,2],[3,4]])\n",
    "t=np.array([1,2,3,4])\n",
    "kf=KFold(n=x.shape[0],n_folds=2)"
   ]
  },
  {
   "cell_type": "code",
   "execution_count": 2,
   "metadata": {
    "collapsed": false
   },
   "outputs": [
    {
     "data": {
      "text/plain": [
       "sklearn.cross_validation.KFold(n=4, n_folds=2, shuffle=False, random_state=None)"
      ]
     },
     "execution_count": 2,
     "metadata": {},
     "output_type": "execute_result"
    }
   ],
   "source": [
    "kf"
   ]
  },
  {
   "cell_type": "code",
   "execution_count": 3,
   "metadata": {
    "collapsed": false
   },
   "outputs": [
    {
     "name": "stdout",
     "output_type": "stream",
     "text": [
      "sklearn.cross_validation.KFold(n=4, n_folds=2, shuffle=False, random_state=None)\n",
      "Train: [2 3] Test: [0 1]\n",
      "Train: [0 1] Test: [2 3]\n"
     ]
    }
   ],
   "source": [
    "print(kf)\n",
    "for train_index,test_index in kf:\n",
    "    print(\"Train:\", train_index, \"Test:\",test_index)\n",
    "    x_train,x_test=x[train_index],x[test_index]\n",
    "    t_train,t_test=t[train_index],t[test_index]"
   ]
  },
  {
   "cell_type": "code",
   "execution_count": 4,
   "metadata": {
    "collapsed": true
   },
   "outputs": [],
   "source": [
    "import sklearn.datasets as datasets\n",
    "digits=datasets.load_digits()\n",
    "img,X,t=digits.images,digits.data,digits.target"
   ]
  },
  {
   "cell_type": "code",
   "execution_count": 5,
   "metadata": {
    "collapsed": true
   },
   "outputs": [],
   "source": [
    "kf=KFold(n=X.shape[0],n_folds=5)"
   ]
  },
  {
   "cell_type": "code",
   "execution_count": 6,
   "metadata": {
    "collapsed": false
   },
   "outputs": [
    {
     "name": "stdout",
     "output_type": "stream",
     "text": [
      "Train: (1437,) Test: (360,)\n",
      "0.891666666667\n",
      "Train: (1437,) Test: (360,)\n",
      "0.836111111111\n",
      "Train: (1438,) Test: (359,)\n",
      "0.930362116992\n",
      "Train: (1438,) Test: (359,)\n",
      "0.930362116992\n",
      "Train: (1438,) Test: (359,)\n",
      "0.888579387187\n"
     ]
    }
   ],
   "source": [
    "from sklearn.linear_model import SGDClassifier\n",
    "from sklearn import metrics\n",
    "\n",
    "for train_index,test_index in kf:\n",
    "    print(\"Train:\",train_index.shape,\"Test:\",test_index.shape)\n",
    "    x_train,x_test=X[train_index],X[test_index]\n",
    "    t_train,t_test=t[train_index],t[test_index]\n",
    "    \n",
    "    clf=SGDClassifier()\n",
    "    clf.fit(x_train,t_train)\n",
    "    y_test=clf.predict(x_test)\n",
    "    \n",
    "    print(metrics.accuracy_score(t_test,y_test))"
   ]
  },
  {
   "cell_type": "code",
   "execution_count": null,
   "metadata": {
    "collapsed": true
   },
   "outputs": [],
   "source": []
  }
 ],
 "metadata": {
  "anaconda-cloud": {},
  "kernelspec": {
   "display_name": "Python [default]",
   "language": "python",
   "name": "python3"
  },
  "language_info": {
   "codemirror_mode": {
    "name": "ipython",
    "version": 3
   },
   "file_extension": ".py",
   "mimetype": "text/x-python",
   "name": "python",
   "nbconvert_exporter": "python",
   "pygments_lexer": "ipython3",
   "version": "3.5.2"
  }
 },
 "nbformat": 4,
 "nbformat_minor": 0
}
