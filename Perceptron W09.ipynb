{
 "cells": [
  {
   "cell_type": "code",
   "execution_count": 1,
   "metadata": {
    "collapsed": false
   },
   "outputs": [
    {
     "name": "stdout",
     "output_type": "stream",
     "text": [
      "[ 0.70479633  0.50786086  0.43736547]\n"
     ]
    }
   ],
   "source": [
    "import numpy as np\n",
    "w=np.random.random(3)\n",
    "print(w)"
   ]
  },
  {
   "cell_type": "markdown",
   "metadata": {},
   "source": [
    "y=v \n",
    "v=g(u) , u>= 0 , u=xw +xw\n",
    "0.5 0.5 0.51\n",
    "xx=np.array([-1,0,2],\n",
    "           [-1,0,1],\n",
    "           [-1,1,0],\n",
    "           [-1,0,3])\n",
    "t_AND=np.array([0,1,1,1])\n",
    "\n",
    "whichsample=0\n",
    "u=sum(x[which],w)\n",
    "y=activation(u)\n",
    "correct=y==t_AND[which]\n"
   ]
  },
  {
   "cell_type": "code",
   "execution_count": 2,
   "metadata": {
    "collapsed": true
   },
   "outputs": [],
   "source": [
    "def summationjunction(x,w):  \n",
    "    return np.dot(x,w)\n",
    "\n",
    "\n",
    "def activation(u):\n",
    "    return 1 if u>=0 else 0\n",
    "\n",
    "def compute_y_give_x(x,w):\n",
    "    return activation(summationjunction(x,w))\n",
    "\n",
    "def compute_ys_given_X(X,w):\n",
    "    ys=np.zeros(X.shape[0])\n",
    "    for i,x in enumerate(X):\n",
    "        ys[i]=compute_y_give_x(x,w)\n",
    "    return ys\n",
    "\n",
    "def getNumberofError(assert_data,actual_data):\n",
    "    errors=np.count_nonzero(assert_data!=actual_data)\n",
    "    return errors\n",
    "\n",
    "### perceptron\n",
    "def perceptron(x, w):\n",
    "    return 1 if np.dot(x,w) > 0 else 0\n",
    "\n",
    "def predict(X, w):\n",
    "    y = np.zeros(X.shape[0], dtype=int)\n",
    "    for i, x in enumerate(X):\n",
    "        y[i] = perceptron(x,w)\n",
    "    return y\n",
    "\n",
    "def errors(X, t, w):\n",
    "    y = predict(X, w)\n",
    "    return np.count_nonzero(y!=t)\n"
   ]
  },
  {
   "cell_type": "code",
   "execution_count": 3,
   "metadata": {
    "collapsed": false,
    "scrolled": true
   },
   "outputs": [],
   "source": [
    "x=np.array([1,2,3])\n",
    "z=np.array([0.51,0.5,0.50])\n",
    "t_AND=np.array([0,0,0,1])\n",
    "t_OR=np.array([0,1,1,1])"
   ]
  },
  {
   "cell_type": "code",
   "execution_count": 4,
   "metadata": {
    "collapsed": false
   },
   "outputs": [
    {
     "name": "stdout",
     "output_type": "stream",
     "text": [
      "[[-1  0  2]\n",
      " [-1  0  1]\n",
      " [-1  1  0]\n",
      " [-1  0  3]]\n"
     ]
    }
   ],
   "source": [
    "xx=np.array([[-1,0,2],\n",
    "           [-1,0,1],\n",
    "           [-1,1,0],\n",
    "           [-1,0,3]])\n",
    "print(xx)"
   ]
  },
  {
   "cell_type": "code",
   "execution_count": 5,
   "metadata": {
    "collapsed": false
   },
   "outputs": [
    {
     "name": "stdout",
     "output_type": "stream",
     "text": [
      "[ 1.  0.  0.  1.]\n",
      "[0 0 0 1]\n",
      "[0 1 1 1]\n"
     ]
    }
   ],
   "source": [
    "print(compute_ys_given_X(xx,w))\n",
    "print(t_AND)\n",
    "print(t_OR)"
   ]
  },
  {
   "cell_type": "code",
   "execution_count": 6,
   "metadata": {
    "collapsed": false
   },
   "outputs": [
    {
     "data": {
      "text/plain": [
       "3"
      ]
     },
     "execution_count": 6,
     "metadata": {},
     "output_type": "execute_result"
    }
   ],
   "source": [
    "getNumberofError(compute_ys_given_X(xx,w),t_OR)"
   ]
  },
  {
   "cell_type": "markdown",
   "metadata": {},
   "source": [
    "ajust w automatically until converged\n",
    "for each sample x in X\n",
    "y=g(s(x))\n",
    "delta_w=y(t-y)x\n",
    "w=w+delta_w"
   ]
  },
  {
   "cell_type": "code",
   "execution_count": 7,
   "metadata": {
    "collapsed": false,
    "scrolled": true
   },
   "outputs": [
    {
     "name": "stdout",
     "output_type": "stream",
     "text": [
      "[[-1  0  0]\n",
      " [-1  0  1]\n",
      " [-1  1  0]\n",
      " [-1  1  1]]\n",
      "[0 1 1 1]\n",
      "[ 0.70479633  0.50786086  0.43736547]\n",
      "0\n"
     ]
    }
   ],
   "source": [
    "X = np.array([\n",
    "        [-1, 0,0],\n",
    "        [-1, 0,1],\n",
    "        [-1, 1,0],\n",
    "        [-1, 1,1]])\n",
    "t_OR = np.array([0,1,1,1])\n",
    "t_AND = np.array([0,0,0,1])\n",
    "t_XOR = np.array([0,1,1,0])\n",
    "\n",
    "print(X)\n",
    "print(t_OR)\n",
    "print(w)\n",
    "error = errors(X, t_AND, w)\n",
    "print(error)"
   ]
  },
  {
   "cell_type": "code",
   "execution_count": 8,
   "metadata": {
    "collapsed": false
   },
   "outputs": [],
   "source": [
    "def PTR(X, t, w, eta=0.001, max_epoch=50):\n",
    "    epoch = 0\n",
    "    nbErrors = 1\n",
    "    while (nbErrors > 0) and (epoch < max_epoch):\n",
    "        for i, x in enumerate(X):\n",
    "            y = perceptron(x,w)\n",
    "            ti = t[i]\n",
    "            delta_w = eta * (ti - y) * x\n",
    "            w += delta_w\n",
    "        nbErrors = errors(X, t, w)\n",
    "        print(\"Epoch %3d. errors = %d. w: %s\" % (epoch, nbErrors, w))\n",
    "        epoch += 1\n",
    "    print(\"Training for %d epochs.\" % epoch)\n",
    "    return w"
   ]
  },
  {
   "cell_type": "code",
   "execution_count": 9,
   "metadata": {
    "collapsed": false
   },
   "outputs": [
    {
     "name": "stdout",
     "output_type": "stream",
     "text": [
      "Before Training...\n",
      "[ 0.31185065  0.74993037  0.53348734]\n",
      "Errors = 2.\n",
      "Training Now...\n",
      "Epoch   0. errors = 2. w: [ 0.33185065  0.73993037  0.52348734]\n",
      "Epoch   1. errors = 2. w: [ 0.35185065  0.72993037  0.51348734]\n",
      "Epoch   2. errors = 2. w: [ 0.37185065  0.71993037  0.50348734]\n",
      "Epoch   3. errors = 2. w: [ 0.39185065  0.70993037  0.49348734]\n",
      "Epoch   4. errors = 2. w: [ 0.41185065  0.69993037  0.48348734]\n",
      "Epoch   5. errors = 2. w: [ 0.43185065  0.68993037  0.47348734]\n",
      "Epoch   6. errors = 2. w: [ 0.45185065  0.67993037  0.46348734]\n",
      "Epoch   7. errors = 1. w: [ 0.47185065  0.66993037  0.45348734]\n",
      "Epoch   8. errors = 1. w: [ 0.48185065  0.65993037  0.45348734]\n",
      "Epoch   9. errors = 1. w: [ 0.49185065  0.64993037  0.45348734]\n",
      "Epoch  10. errors = 1. w: [ 0.50185065  0.63993037  0.45348734]\n",
      "Epoch  11. errors = 1. w: [ 0.51185065  0.62993037  0.45348734]\n",
      "Epoch  12. errors = 1. w: [ 0.52185065  0.61993037  0.45348734]\n",
      "Epoch  13. errors = 1. w: [ 0.53185065  0.60993037  0.45348734]\n",
      "Epoch  14. errors = 1. w: [ 0.54185065  0.59993037  0.45348734]\n",
      "Epoch  15. errors = 1. w: [ 0.55185065  0.58993037  0.45348734]\n",
      "Epoch  16. errors = 1. w: [ 0.56185065  0.57993037  0.45348734]\n",
      "Epoch  17. errors = 0. w: [ 0.57185065  0.56993037  0.45348734]\n",
      "Training for 18 epochs.\n",
      "After Training...\n",
      "[ 0.57185065  0.56993037  0.45348734]\n",
      "Errors = 0.\n"
     ]
    }
   ],
   "source": [
    "w = np.random.random(3)\n",
    "t = t_AND\n",
    "print(\"Before Training...\")\n",
    "print(w)\n",
    "print(\"Errors = %d.\" % errors(X, t, w))\n",
    "print(\"Training Now...\")\n",
    "PTR(X, t, w, eta=0.01)\n",
    "print(\"After Training...\")\n",
    "print(w)\n",
    "print(\"Errors = %d.\" % errors(X, t, w))"
   ]
  }
 ],
 "metadata": {
  "anaconda-cloud": {},
  "kernelspec": {
   "display_name": "Python [default]",
   "language": "python",
   "name": "python3"
  },
  "language_info": {
   "codemirror_mode": {
    "name": "ipython",
    "version": 3
   },
   "file_extension": ".py",
   "mimetype": "text/x-python",
   "name": "python",
   "nbconvert_exporter": "python",
   "pygments_lexer": "ipython3",
   "version": "3.5.2"
  }
 },
 "nbformat": 4,
 "nbformat_minor": 0
}
