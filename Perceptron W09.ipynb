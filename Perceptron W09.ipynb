{
 "cells": [
  {
   "cell_type": "code",
   "execution_count": 88,
   "metadata": {
    "collapsed": false
   },
   "outputs": [
    {
     "name": "stdout",
     "output_type": "stream",
     "text": [
      "[ 0.5716846   0.48456259  0.88326407]\n"
     ]
    }
   ],
   "source": [
    "import numpy as np\n",
    "w=np.random.random(3)\n",
    "print(w)"
   ]
  },
  {
   "cell_type": "markdown",
   "metadata": {},
   "source": [
    "y=v \n",
    "v=g(u) , u>= 0 , u=xw +xw\n",
    "0.5 0.5 0.51\n",
    "xx=np.array([-1,0,2],\n",
    "           [-1,0,1],\n",
    "           [-1,1,0],\n",
    "           [-1,0,3])\n",
    "t_AND=np.array([0,1,1,1])\n",
    "\n",
    "whichsample=0\n",
    "u=sum(x[which],w)\n",
    "y=activation(u)\n",
    "correct=y==t_AND[which]\n"
   ]
  },
  {
   "cell_type": "code",
   "execution_count": 155,
   "metadata": {
    "collapsed": true
   },
   "outputs": [],
   "source": [
    "def summationjunction(x,w):  \n",
    "    return np.dot(x,w)\n",
    "\n",
    "\n",
    "def activation(u):\n",
    "    return 1 if u>=0 else 0\n",
    "\n",
    "def compute_y_give_x(x,w):\n",
    "    return activation(summationjunction(x,w))\n",
    "\n",
    "def compute_ys_given_X(X,w):\n",
    "    ys=np.zeros(X.shape[0])\n",
    "    for i,x in enumerate(X):\n",
    "        ys[i]=compute_y_give_x(x,w)\n",
    "    return ys\n",
    "\n",
    "def getNumberofError(assert_data,actual_data):\n",
    "    errors=np.count_nonzero(assert_data!=actual_data)\n",
    "    return errors\n"
   ]
  },
  {
   "cell_type": "code",
   "execution_count": 109,
   "metadata": {
    "collapsed": false,
    "scrolled": true
   },
   "outputs": [],
   "source": [
    "x=np.array([1,2,3])\n",
    "z=np.array([0.51,0.5,0.50])\n",
    "t_AND=np.array([0,0,0,1])\n",
    "t_OR=np.array([0,1,1,1])"
   ]
  },
  {
   "cell_type": "code",
   "execution_count": 114,
   "metadata": {
    "collapsed": false
   },
   "outputs": [
    {
     "name": "stdout",
     "output_type": "stream",
     "text": [
      "[[-1  0  2]\n",
      " [-1  0  1]\n",
      " [-1  1  0]\n",
      " [-1  0  3]]\n"
     ]
    }
   ],
   "source": [
    "xx=np.array([[-1,0,2],\n",
    "           [-1,0,1],\n",
    "           [-1,1,0],\n",
    "           [-1,0,3]])\n",
    "print(xx)"
   ]
  },
  {
   "cell_type": "code",
   "execution_count": 128,
   "metadata": {
    "collapsed": false
   },
   "outputs": [
    {
     "name": "stdout",
     "output_type": "stream",
     "text": [
      "[ 1.  1.  0.  1.]\n",
      "[0 0 0 1]\n",
      "[0 1 1 1]\n"
     ]
    }
   ],
   "source": [
    "print(compute_ys_given_X(xx,w))\n",
    "print(t_AND)\n",
    "print(t_OR)"
   ]
  },
  {
   "cell_type": "code",
   "execution_count": 127,
   "metadata": {
    "collapsed": false
   },
   "outputs": [
    {
     "data": {
      "text/plain": [
       "2"
      ]
     },
     "execution_count": 127,
     "metadata": {},
     "output_type": "execute_result"
    }
   ],
   "source": [
    "getNumberofError(compute_ys_given_X(xx,w),t_OR)"
   ]
  },
  {
   "cell_type": "markdown",
   "metadata": {},
   "source": [
    "ajust w automatically until converged\n",
    "for each sample x in X\n",
    "y=g(s(x))\n",
    "delta_w=y(t-y)x\n",
    "w=w+delta_w"
   ]
  },
  {
   "cell_type": "code",
   "execution_count": 168,
   "metadata": {
    "collapsed": false,
    "scrolled": true
   },
   "outputs": [],
   "source": [
    "def PTR(X,t,w,eta=0.1):#eta = learning rate\n",
    "    errors=1\n",
    "    epoch=0\n",
    "    \n",
    "    while errors>0 and epoch<50:\n",
    "        errors=0\n",
    "        for i,x in enumerate(X):\n",
    "            y=compute_y_give_x(x,w)\n",
    "            delta_w=eta*(t-y)*x\n",
    "            w+=delta_w\n",
    "            errors+=y==t[i]\n",
    "        epoch+=1\n",
    "    return w"
   ]
  },
  {
   "cell_type": "code",
   "execution_count": 140,
   "metadata": {
    "collapsed": false
   },
   "outputs": [
    {
     "name": "stdout",
     "output_type": "stream",
     "text": [
      "[[-1  0  2]\n",
      " [-1  0  1]\n",
      " [-1  1  0]\n",
      " [-1  0  3]]\n",
      "[0 0 0 1]\n"
     ]
    },
    {
     "data": {
      "text/plain": [
       "array([ 0.02160183,  0.67285921,  0.63344946])"
      ]
     },
     "execution_count": 140,
     "metadata": {},
     "output_type": "execute_result"
    }
   ],
   "source": [
    "print(xx)\n",
    "print(t_AND)\n"
   ]
  },
  {
   "cell_type": "code",
   "execution_count": 169,
   "metadata": {
    "collapsed": false
   },
   "outputs": [
    {
     "name": "stdout",
     "output_type": "stream",
     "text": [
      "original w:\n",
      "[ 0.70596523  0.35048109  0.82286983]\n",
      "Before PTR:No errors=1\n"
     ]
    },
    {
     "ename": "ValueError",
     "evalue": "operands could not be broadcast together with shapes (4,) (3,) ",
     "output_type": "error",
     "traceback": [
      "\u001b[1;31m---------------------------------------------------------------------------\u001b[0m",
      "\u001b[1;31mValueError\u001b[0m                                Traceback (most recent call last)",
      "\u001b[1;32m<ipython-input-169-80a036566d75>\u001b[0m in \u001b[0;36m<module>\u001b[1;34m()\u001b[0m\n\u001b[0;32m     14\u001b[0m \u001b[1;33m\u001b[0m\u001b[0m\n\u001b[0;32m     15\u001b[0m \u001b[1;31m#adjust the weights based on perceptron training rules\u001b[0m\u001b[1;33m\u001b[0m\u001b[1;33m\u001b[0m\u001b[0m\n\u001b[1;32m---> 16\u001b[1;33m \u001b[0mPTR\u001b[0m\u001b[1;33m(\u001b[0m\u001b[0mX\u001b[0m\u001b[1;33m,\u001b[0m\u001b[0mt_AND\u001b[0m\u001b[1;33m,\u001b[0m\u001b[0mw\u001b[0m\u001b[1;33m)\u001b[0m\u001b[1;33m\u001b[0m\u001b[0m\n\u001b[0m\u001b[0;32m     17\u001b[0m \u001b[1;33m\u001b[0m\u001b[0m\n\u001b[0;32m     18\u001b[0m \u001b[1;31m#Check errors\u001b[0m\u001b[1;33m\u001b[0m\u001b[1;33m\u001b[0m\u001b[0m\n",
      "\u001b[1;32m<ipython-input-168-ea0eb21fbe4d>\u001b[0m in \u001b[0;36mPTR\u001b[1;34m(X, t, w, eta)\u001b[0m\n\u001b[0;32m      7\u001b[0m         \u001b[1;32mfor\u001b[0m \u001b[0mi\u001b[0m\u001b[1;33m,\u001b[0m\u001b[0mx\u001b[0m \u001b[1;32min\u001b[0m \u001b[0menumerate\u001b[0m\u001b[1;33m(\u001b[0m\u001b[0mX\u001b[0m\u001b[1;33m)\u001b[0m\u001b[1;33m:\u001b[0m\u001b[1;33m\u001b[0m\u001b[0m\n\u001b[0;32m      8\u001b[0m             \u001b[0my\u001b[0m\u001b[1;33m=\u001b[0m\u001b[0mcompute_y_give_x\u001b[0m\u001b[1;33m(\u001b[0m\u001b[0mx\u001b[0m\u001b[1;33m,\u001b[0m\u001b[0mw\u001b[0m\u001b[1;33m)\u001b[0m\u001b[1;33m\u001b[0m\u001b[0m\n\u001b[1;32m----> 9\u001b[1;33m             \u001b[0mdelta_w\u001b[0m\u001b[1;33m=\u001b[0m\u001b[0meta\u001b[0m\u001b[1;33m*\u001b[0m\u001b[1;33m(\u001b[0m\u001b[0mt\u001b[0m\u001b[1;33m-\u001b[0m\u001b[0my\u001b[0m\u001b[1;33m)\u001b[0m\u001b[1;33m*\u001b[0m\u001b[0mx\u001b[0m\u001b[1;33m\u001b[0m\u001b[0m\n\u001b[0m\u001b[0;32m     10\u001b[0m             \u001b[0mw\u001b[0m\u001b[1;33m+=\u001b[0m\u001b[0mdelta_w\u001b[0m\u001b[1;33m\u001b[0m\u001b[0m\n\u001b[0;32m     11\u001b[0m             \u001b[0merrors\u001b[0m\u001b[1;33m+=\u001b[0m\u001b[0my\u001b[0m\u001b[1;33m==\u001b[0m\u001b[0mt\u001b[0m\u001b[1;33m[\u001b[0m\u001b[0mi\u001b[0m\u001b[1;33m]\u001b[0m\u001b[1;33m\u001b[0m\u001b[0m\n",
      "\u001b[1;31mValueError\u001b[0m: operands could not be broadcast together with shapes (4,) (3,) "
     ]
    }
   ],
   "source": [
    "X=np.array([[-1,0,0],\n",
    "           [-1,0,1],\n",
    "           [-1,1,0],\n",
    "           [-1,1,1]])\n",
    "t_AND=np.array([0,0,0,1])\n",
    "w=np.random.random(3)\n",
    "print(\"original w:\")\n",
    "print(w)\n",
    "\n",
    "#Check if any eror\n",
    "ys=compute_ys_given_X(X,w)\n",
    "errors=np.count_nonzero(ys!=t_AND)\n",
    "print(\"Before PTR:No errors=%d\" %errors)\n",
    "\n",
    "#adjust the weights based on perceptron training rules\n",
    "PTR(X,t_AND,w)\n",
    "\n",
    "#Check errors\n",
    "ys= compute_ys_given_X(X,w)\n",
    "errors=np.count_nonzero(ys!=t_AND)\n",
    "print(\"After PTR:No errors=%d\" %errors)\n",
    "print(\"new weights\")\n",
    "print(w)"
   ]
  }
 ],
 "metadata": {
  "kernelspec": {
   "display_name": "Python 3",
   "language": "python",
   "name": "python3"
  },
  "language_info": {
   "codemirror_mode": {
    "name": "ipython",
    "version": 3
   },
   "file_extension": ".py",
   "mimetype": "text/x-python",
   "name": "python",
   "nbconvert_exporter": "python",
   "pygments_lexer": "ipython3",
   "version": "3.5.0"
  }
 },
 "nbformat": 4,
 "nbformat_minor": 0
}
