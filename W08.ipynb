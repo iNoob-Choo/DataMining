{
 "cells": [
  {
   "cell_type": "markdown",
   "metadata": {},
   "source": [
    "Exersice 1 \n",
    "Euclidean distance computation\n",
    "\n",
    "distEuclidean(a,b)\n",
    "z=(a^2 + b^2)^1/2\n",
    "\n"
   ]
  },
  {
   "cell_type": "code",
   "execution_count": 77,
   "metadata": {
    "collapsed": false
   },
   "outputs": [],
   "source": [
    "import numpy as np\n",
    "def distEuclidean(a,b):\n",
    "    z=0\n",
    "    #z=np.sqrt(np.sum((a-b)**2))\n",
    "    z=np.sqrt(np.sum((a-b)*(a-b)))   \n",
    "    return z\n",
    "        \n",
    "    "
   ]
  },
  {
   "cell_type": "code",
   "execution_count": 101,
   "metadata": {
    "collapsed": false
   },
   "outputs": [],
   "source": [
    "def manhattan_distance(a, b):\n",
    "    #z=0\n",
    "    #z=np.abs(a[0]-b[0])+np.abs(a[1]-b[1])\n",
    "    z=0\n",
    "    z= np.abs(a-b).sum()\n",
    "    return z"
   ]
  },
  {
   "cell_type": "code",
   "execution_count": 88,
   "metadata": {
    "collapsed": false
   },
   "outputs": [],
   "source": [
    "a=np.array((3,5,2,6,7,9,1))\n",
    "b=np.array((1,2,5,7,8,9,3))\n",
    "aa=np.array((5,7))\n",
    "bb=np.array((2,11))\n",
    "c=np.array((1,2,3,4,5))\n",
    "d=np.array((6,7,8,9,10))\n"
   ]
  },
  {
   "cell_type": "code",
   "execution_count": 106,
   "metadata": {
    "collapsed": false
   },
   "outputs": [
    {
     "name": "stdout",
     "output_type": "stream",
     "text": [
      "7\n",
      "12\n",
      "5.0\n",
      "5.29150262213\n"
     ]
    }
   ],
   "source": [
    "print(manhattan_distance(aa,bb))\n",
    "print(manhattan_distance(a,b))\n",
    "print(distEuclidean(aa,bb))\n",
    "print(distEuclidean(a,b)) "
   ]
  },
  {
   "cell_type": "code",
   "execution_count": 217,
   "metadata": {
    "collapsed": false
   },
   "outputs": [
    {
     "name": "stdout",
     "output_type": "stream",
     "text": [
      "(150, 4)\n",
      "(150,)\n",
      "(105, 4)\n",
      "(105,)\n",
      "(45, 4)\n",
      "(45,)\n"
     ]
    }
   ],
   "source": [
    "from sklearn import datasets\n",
    "from sklearn.cross_validation import train_test_split\n",
    "\n",
    "iris=datasets.load_iris()\n",
    "X=iris.data\n",
    "t=iris.target\n",
    "print(X.shape)\n",
    "print(t.shape)\n",
    "\n",
    "X_train,X_test,t_train,t_test =train_test_split(x,t,test_size=0.3)#attribute attribute target target\n",
    "print(X_train.shape)\n",
    "print(t_train.shape)\n",
    "print(X_test.shape)\n",
    "print(t_test.shape)"
   ]
  },
  {
   "cell_type": "code",
   "execution_count": null,
   "metadata": {
    "collapsed": true
   },
   "outputs": [],
   "source": [
    "global Myx\n",
    "global \n",
    "def fit(x,t):\n",
    "    Myx=x.copy()\n",
    "    Myt=t.copy()\n",
    "    return 0"
   ]
  },
  {
   "cell_type": "code",
   "execution_count": 269,
   "metadata": {
    "collapsed": false
   },
   "outputs": [],
   "source": [
    "global Myx\n",
    "global Myt\n",
    "Myt=t_train.copy()\n",
    "Myx=X_train.copy()\n",
    "def predict(x):\n",
    "    unseen_x=x\n",
    "    MyDist=np.zeros_like(Myt).astype(float)\n",
    "    for i,y in enumerate(Myx):\n",
    "        MyDist[i]=distEuclidean(y,x)\n",
    "    bestMatch=MyDist.argmin()   \n",
    "    y=Myt[bestMatch]\n",
    "    return y"
   ]
  },
  {
   "cell_type": "code",
   "execution_count": 264,
   "metadata": {
    "collapsed": false
   },
   "outputs": [
    {
     "data": {
      "text/plain": [
       "array([0, 1, 0, 1, 0, 2, 2, 1, 1, 0, 2, 1, 1, 2, 0, 2, 0, 1, 2, 0, 2, 2, 0,\n",
       "       1, 1, 1, 0, 2, 1, 2, 0, 2, 1, 2, 2, 0, 0, 0, 0, 0, 1, 0, 0, 2, 1, 0,\n",
       "       0, 0, 1, 1, 0, 0, 2, 0, 1, 1, 0, 1, 2, 1, 2, 2, 0, 1, 1, 1, 1, 2, 1,\n",
       "       0, 1, 0, 2, 1, 1, 2, 0, 0, 1, 2, 2, 1, 0, 0, 2, 2, 0, 2, 1, 2, 2, 2,\n",
       "       0, 0, 0, 2, 2, 2, 1, 1, 2, 0, 2, 1, 0])"
      ]
     },
     "execution_count": 264,
     "metadata": {},
     "output_type": "execute_result"
    }
   ],
   "source": [
    "Myt"
   ]
  },
  {
   "cell_type": "code",
   "execution_count": 265,
   "metadata": {
    "collapsed": false
   },
   "outputs": [
    {
     "data": {
      "text/plain": [
       "array([[ 5.8,  4. ,  1.2,  0.2],\n",
       "       [ 5.9,  3. ,  4.2,  1.5],\n",
       "       [ 4.8,  3.1,  1.6,  0.2],\n",
       "       [ 6.5,  2.8,  4.6,  1.5],\n",
       "       [ 5.1,  3.8,  1.6,  0.2],\n",
       "       [ 6.3,  2.8,  5.1,  1.5],\n",
       "       [ 5.8,  2.8,  5.1,  2.4],\n",
       "       [ 6.6,  3. ,  4.4,  1.4],\n",
       "       [ 6.3,  3.3,  4.7,  1.6],\n",
       "       [ 5.1,  3.8,  1.9,  0.4],\n",
       "       [ 7.7,  3.8,  6.7,  2.2],\n",
       "       [ 5.5,  2.4,  3.7,  1. ],\n",
       "       [ 6. ,  2.2,  4. ,  1. ],\n",
       "       [ 6.4,  3.1,  5.5,  1.8],\n",
       "       [ 5.5,  3.5,  1.3,  0.2],\n",
       "       [ 6.9,  3.2,  5.7,  2.3],\n",
       "       [ 5.1,  3.7,  1.5,  0.4],\n",
       "       [ 6.7,  3.1,  4.4,  1.4],\n",
       "       [ 6.5,  3. ,  5.5,  1.8],\n",
       "       [ 5. ,  3.2,  1.2,  0.2],\n",
       "       [ 6.7,  3. ,  5.2,  2.3],\n",
       "       [ 7.7,  2.8,  6.7,  2. ],\n",
       "       [ 5.2,  4.1,  1.5,  0.1],\n",
       "       [ 5.4,  3. ,  4.5,  1.5],\n",
       "       [ 5.8,  2.7,  4.1,  1. ],\n",
       "       [ 5.5,  2.3,  4. ,  1.3],\n",
       "       [ 5.4,  3.4,  1.7,  0.2],\n",
       "       [ 6.7,  3.3,  5.7,  2.1],\n",
       "       [ 5.5,  2.4,  3.8,  1.1],\n",
       "       [ 5.8,  2.7,  5.1,  1.9],\n",
       "       [ 5. ,  3.4,  1.6,  0.4],\n",
       "       [ 7.1,  3. ,  5.9,  2.1],\n",
       "       [ 5.9,  3.2,  4.8,  1.8],\n",
       "       [ 6.7,  2.5,  5.8,  1.8],\n",
       "       [ 7.2,  3.6,  6.1,  2.5],\n",
       "       [ 4.9,  3.1,  1.5,  0.1],\n",
       "       [ 5. ,  3.4,  1.5,  0.2],\n",
       "       [ 4.4,  3.2,  1.3,  0.2],\n",
       "       [ 5.4,  3.4,  1.5,  0.4],\n",
       "       [ 4.4,  3. ,  1.3,  0.2],\n",
       "       [ 5.8,  2.6,  4. ,  1.2],\n",
       "       [ 4.6,  3.1,  1.5,  0.2],\n",
       "       [ 4.6,  3.2,  1.4,  0.2],\n",
       "       [ 6.5,  3. ,  5.8,  2.2],\n",
       "       [ 6.1,  2.8,  4.7,  1.2],\n",
       "       [ 5.1,  3.4,  1.5,  0.2],\n",
       "       [ 4.8,  3.4,  1.6,  0.2],\n",
       "       [ 5.7,  4.4,  1.5,  0.4],\n",
       "       [ 5.7,  2.9,  4.2,  1.3],\n",
       "       [ 5.7,  2.6,  3.5,  1. ],\n",
       "       [ 5.2,  3.4,  1.4,  0.2],\n",
       "       [ 5.4,  3.7,  1.5,  0.2],\n",
       "       [ 6.8,  3. ,  5.5,  2.1],\n",
       "       [ 4.6,  3.6,  1. ,  0.2],\n",
       "       [ 6.9,  3.1,  4.9,  1.5],\n",
       "       [ 6. ,  2.9,  4.5,  1.5],\n",
       "       [ 5. ,  3.3,  1.4,  0.2],\n",
       "       [ 5.8,  2.7,  3.9,  1.2],\n",
       "       [ 5.6,  2.8,  4.9,  2. ],\n",
       "       [ 5. ,  2. ,  3.5,  1. ],\n",
       "       [ 6. ,  3. ,  4.8,  1.8],\n",
       "       [ 6.4,  3.2,  5.3,  2.3],\n",
       "       [ 5.7,  3.8,  1.7,  0.3],\n",
       "       [ 6.4,  3.2,  4.5,  1.5],\n",
       "       [ 5.6,  3. ,  4.5,  1.5],\n",
       "       [ 5. ,  2.3,  3.3,  1. ],\n",
       "       [ 6.7,  3.1,  4.7,  1.5],\n",
       "       [ 7.4,  2.8,  6.1,  1.9],\n",
       "       [ 6.7,  3. ,  5. ,  1.7],\n",
       "       [ 4.7,  3.2,  1.6,  0.2],\n",
       "       [ 6. ,  2.7,  5.1,  1.6],\n",
       "       [ 5. ,  3.5,  1.3,  0.3],\n",
       "       [ 6.8,  3.2,  5.9,  2.3],\n",
       "       [ 6.6,  2.9,  4.6,  1.3],\n",
       "       [ 6.8,  2.8,  4.8,  1.4],\n",
       "       [ 6.7,  3.3,  5.7,  2.5],\n",
       "       [ 4.9,  3.1,  1.5,  0.1],\n",
       "       [ 5.1,  3.5,  1.4,  0.3],\n",
       "       [ 5.1,  2.5,  3. ,  1.1],\n",
       "       [ 7.7,  3. ,  6.1,  2.3],\n",
       "       [ 6.3,  2.5,  5. ,  1.9],\n",
       "       [ 5.7,  3. ,  4.2,  1.2],\n",
       "       [ 4.8,  3.4,  1.9,  0.2],\n",
       "       [ 5. ,  3. ,  1.6,  0.2],\n",
       "       [ 7.7,  2.6,  6.9,  2.3],\n",
       "       [ 6. ,  2.2,  5. ,  1.5],\n",
       "       [ 5.2,  3.5,  1.5,  0.2],\n",
       "       [ 7.3,  2.9,  6.3,  1.8],\n",
       "       [ 6.2,  2.9,  4.3,  1.3],\n",
       "       [ 6.9,  3.1,  5.4,  2.1],\n",
       "       [ 6.9,  3.1,  5.1,  2.3],\n",
       "       [ 7.2,  3. ,  5.8,  1.6],\n",
       "       [ 5.4,  3.9,  1.7,  0.4],\n",
       "       [ 4.7,  3.2,  1.3,  0.2],\n",
       "       [ 5. ,  3.5,  1.6,  0.6],\n",
       "       [ 4.9,  2.5,  4.5,  1.7],\n",
       "       [ 6.5,  3.2,  5.1,  2. ],\n",
       "       [ 6.4,  2.8,  5.6,  2.2],\n",
       "       [ 6.4,  2.9,  4.3,  1.3],\n",
       "       [ 5.6,  3. ,  4.1,  1.3],\n",
       "       [ 6.5,  3. ,  5.2,  2. ],\n",
       "       [ 4.8,  3. ,  1.4,  0.3],\n",
       "       [ 5.8,  2.7,  5.1,  1.9],\n",
       "       [ 7. ,  3.2,  4.7,  1.4],\n",
       "       [ 4.9,  3.1,  1.5,  0.1]])"
      ]
     },
     "execution_count": 265,
     "metadata": {},
     "output_type": "execute_result"
    }
   ],
   "source": [
    "Myx"
   ]
  },
  {
   "cell_type": "code",
   "execution_count": 268,
   "metadata": {
    "collapsed": false
   },
   "outputs": [
    {
     "data": {
      "text/plain": [
       "2"
      ]
     },
     "execution_count": 268,
     "metadata": {},
     "output_type": "execute_result"
    }
   ],
   "source": [
    "predict(X_test[11])"
   ]
  }
 ],
 "metadata": {
  "kernelspec": {
   "display_name": "Python 3",
   "language": "python",
   "name": "python3"
  },
  "language_info": {
   "codemirror_mode": {
    "name": "ipython",
    "version": 3
   },
   "file_extension": ".py",
   "mimetype": "text/x-python",
   "name": "python",
   "nbconvert_exporter": "python",
   "pygments_lexer": "ipython3",
   "version": "3.5.0"
  }
 },
 "nbformat": 4,
 "nbformat_minor": 0
}
