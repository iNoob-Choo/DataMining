{
 "cells": [
  {
   "cell_type": "code",
   "execution_count": 19,
   "metadata": {
    "collapsed": false,
    "scrolled": true
   },
   "outputs": [
    {
     "data": {
      "text/plain": [
       "(array([  2.,   6.,  10.,   6.,   2.,   7.,   6.,   6.,   5.]),\n",
       " array([ 0.        ,  0.88888889,  1.77777778,  2.66666667,  3.55555556,\n",
       "         4.44444444,  5.33333333,  6.22222222,  7.11111111,  8.        ]),\n",
       " <a list of 9 Patch objects>)"
      ]
     },
     "execution_count": 19,
     "metadata": {},
     "output_type": "execute_result"
    },
    {
     "data": {
      "image/png": "[encoded data removed]",
      "text/plain": [
       "<matplotlib.figure.Figure at 0x7622828>"
      ]
     },
     "metadata": {},
     "output_type": "display_data"
    }
   ],
   "source": [
    "#create and initialize a numpy array with 50 random integer range from 0 to 9\n",
    "#plot a histogram of this numbers\n",
    "\n",
    "import numpy as np\n",
    "import matplotlib.pyplot as plt\n",
    "%matplotlib inline\n",
    "a=np.random.randint(0,9,size=50)\n",
    "#l=np.random.random(50)\n",
    "#il=np.array(l*10,dtype='int32')\n",
    "\n",
    "plt.hist(a,bins=9)\n",
    "\n"
   ]
  },
  {
   "cell_type": "code",
   "execution_count": 22,
   "metadata": {
    "collapsed": false
   },
   "outputs": [
    {
     "data": {
      "text/plain": [
       "array([[7, 1, 8, 6, 5, 3, 6, 5, 5, 1, 6, 7, 2, 9, 3, 2, 2, 5, 1, 1, 6, 5,\n",
       "        8, 9, 8],\n",
       "       [3, 3, 3, 1, 8, 8, 3, 3, 4, 9, 8, 8, 4, 1, 8, 6, 8, 9, 7, 3, 2, 8,\n",
       "        2, 9, 9]])"
      ]
     },
     "execution_count": 22,
     "metadata": {},
     "output_type": "execute_result"
    }
   ],
   "source": [
    "#create and initialize a 2D data with random numbers\n",
    "l=np.random.randint(0,9,size=50).reshape(5,10);\n",
    "li=np.random.randint(1,10,size=50).reshape(2,-1);"
   ]
  },
  {
   "cell_type": "code",
   "execution_count": 23,
   "metadata": {
    "collapsed": false
   },
   "outputs": [
    {
     "data": {
      "text/plain": [
       "array([[7, 1, 0, 1, 8, 1, 2, 1, 4, 3],\n",
       "       [1, 3, 1, 4, 3, 4, 2, 2, 0, 1],\n",
       "       [7, 6, 8, 2, 5, 8, 3, 2, 5, 4],\n",
       "       [3, 2, 3, 0, 8, 7, 4, 1, 0, 0],\n",
       "       [4, 7, 7, 8, 2, 5, 7, 0, 7, 2]])"
      ]
     },
     "execution_count": 23,
     "metadata": {},
     "output_type": "execute_result"
    }
   ],
   "source": [
    "l"
   ]
  },
  {
   "cell_type": "code",
   "execution_count": 27,
   "metadata": {
    "collapsed": false
   },
   "outputs": [
    {
     "data": {
      "text/plain": [
       "array([[7, 1, 8, 6, 5, 3, 6, 5, 5, 1, 6, 7, 2, 9, 3, 2, 2, 5, 1, 1, 6, 5,\n",
       "        8, 9, 8],\n",
       "       [3, 3, 3, 1, 8, 8, 3, 3, 4, 9, 8, 8, 4, 1, 8, 6, 8, 9, 7, 3, 2, 8,\n",
       "        2, 9, 9]])"
      ]
     },
     "execution_count": 27,
     "metadata": {},
     "output_type": "execute_result"
    }
   ],
   "source": [
    "li"
   ]
  },
  {
   "cell_type": "code",
   "execution_count": 29,
   "metadata": {
    "collapsed": false
   },
   "outputs": [],
   "source": [
    "np.random.seed(777)\n",
    "x=np.random.random_sample((20,2)); "
   ]
  },
  {
   "cell_type": "code",
   "execution_count": 30,
   "metadata": {
    "collapsed": false
   },
   "outputs": [
    {
     "data": {
      "text/plain": [
       "array([[ 0.15266373,  0.30235661],\n",
       "       [ 0.06203641,  0.45986034],\n",
       "       [ 0.83525338,  0.92699705],\n",
       "       [ 0.72698898,  0.76849622],\n",
       "       [ 0.26920507,  0.64402929],\n",
       "       [ 0.09337326,  0.07968589],\n",
       "       [ 0.58961375,  0.34334054],\n",
       "       [ 0.98887615,  0.62647321],\n",
       "       [ 0.68177928,  0.55225681],\n",
       "       [ 0.26886006,  0.37325939],\n",
       "       [ 0.2229281 ,  0.1864426 ],\n",
       "       [ 0.39064809,  0.19316241],\n",
       "       [ 0.61091093,  0.88280845],\n",
       "       [ 0.62233882,  0.25311894],\n",
       "       [ 0.17993031,  0.81640447],\n",
       "       [ 0.22537162,  0.51685714],\n",
       "       [ 0.51849582,  0.60037494],\n",
       "       [ 0.53262048,  0.01331005],\n",
       "       [ 0.52409726,  0.89588471],\n",
       "       [ 0.76990129,  0.1228517 ]])"
      ]
     },
     "execution_count": 30,
     "metadata": {},
     "output_type": "execute_result"
    }
   ],
   "source": [
    "x"
   ]
  },
  {
   "cell_type": "code",
   "execution_count": 40,
   "metadata": {
    "collapsed": false
   },
   "outputs": [
    {
     "data": {
      "text/plain": [
       "[<matplotlib.lines.Line2D at 0x851e8d0>]"
      ]
     },
     "execution_count": 40,
     "metadata": {},
     "output_type": "execute_result"
    },
    {
     "data": {
      "image/png": "[encoded data removed]",
      "text/plain": [
       "<matplotlib.figure.Figure at 0x84cc390>"
      ]
     },
     "metadata": {},
     "output_type": "display_data"
    }
   ],
   "source": [
    "#plot 1st dimension of X\n",
    "y=x[:,0]\n",
    "plt.plot(y)"
   ]
  },
  {
   "cell_type": "code",
   "execution_count": 65,
   "metadata": {
    "collapsed": false
   },
   "outputs": [
    {
     "data": {
      "text/plain": [
       "array([[171,   6,   0],\n",
       "       [180,   3,   0],\n",
       "       [190,   8,   0],\n",
       "       [149,  40,   1],\n",
       "       [160,  30,   1],\n",
       "       [155,   5,   0]])"
      ]
     },
     "execution_count": 65,
     "metadata": {},
     "output_type": "execute_result"
    }
   ],
   "source": [
    "w=np.array([(171,6,0),(180,3,0),(190,8,0),(149,40,1),(160,30,1),(155,5,0)]);w"
   ]
  },
  {
   "cell_type": "code",
   "execution_count": 73,
   "metadata": {
    "collapsed": false
   },
   "outputs": [
    {
     "data": {
      "text/plain": [
       "<matplotlib.collections.PathCollection at 0x92f1710>"
      ]
     },
     "execution_count": 73,
     "metadata": {},
     "output_type": "execute_result"
    },
    {
     "name": "stderr",
     "output_type": "stream",
     "text": [
      "C:\\Anaconda3\\lib\\site-packages\\matplotlib\\collections.py:590: FutureWarning: elementwise comparison failed; returning scalar instead, but in the future will perform elementwise comparison\n",
      "  if self._edgecolors == str('face'):\n"
     ]
    },
    {
     "data": {
      "image/png": "[encoded data removed]",
      "text/plain": [
       "<matplotlib.figure.Figure at 0x89232e8>"
      ]
     },
     "metadata": {},
     "output_type": "display_data"
    }
   ],
   "source": [
    "x1=w[:,0]\n",
    "y1=w[:,1]\n",
    "\n",
    "\n",
    "plt.scatter(x1,y1,marker=\"^\",color=\"g\")"
   ]
  },
  {
   "cell_type": "code",
   "execution_count": 68,
   "metadata": {
    "collapsed": false
   },
   "outputs": [
    {
     "data": {
      "text/plain": [
       "array([ 6,  3,  8, 40, 30,  5])"
      ]
     },
     "execution_count": 68,
     "metadata": {},
     "output_type": "execute_result"
    }
   ],
   "source": [
    "y1"
   ]
  },
  {
   "cell_type": "code",
   "execution_count": 71,
   "metadata": {
    "collapsed": false
   },
   "outputs": [
    {
     "data": {
      "text/plain": [
       "array([0, 0, 0, 1, 1, 0])"
      ]
     },
     "execution_count": 71,
     "metadata": {},
     "output_type": "execute_result"
    }
   ],
   "source": [
    "y2=w[:,2];y2"
   ]
  },
  {
   "cell_type": "code",
   "execution_count": 74,
   "metadata": {
    "collapsed": false
   },
   "outputs": [
    {
     "data": {
      "text/plain": [
       "array([ True,  True,  True, False, False,  True], dtype=bool)"
      ]
     },
     "execution_count": 74,
     "metadata": {},
     "output_type": "execute_result"
    }
   ],
   "source": [
    "y2==0"
   ]
  },
  {
   "cell_type": "code",
   "execution_count": 80,
   "metadata": {
    "collapsed": false
   },
   "outputs": [],
   "source": [
    "b=w[y2==0]"
   ]
  },
  {
   "cell_type": "code",
   "execution_count": 76,
   "metadata": {
    "collapsed": false
   },
   "outputs": [
    {
     "data": {
      "text/plain": [
       "array([False, False, False,  True,  True, False], dtype=bool)"
      ]
     },
     "execution_count": 76,
     "metadata": {},
     "output_type": "execute_result"
    }
   ],
   "source": [
    "y2==1"
   ]
  },
  {
   "cell_type": "code",
   "execution_count": 81,
   "metadata": {
    "collapsed": false
   },
   "outputs": [],
   "source": [
    "a=w[y2==1]"
   ]
  },
  {
   "cell_type": "code",
   "execution_count": 84,
   "metadata": {
    "collapsed": false
   },
   "outputs": [
    {
     "name": "stdout",
     "output_type": "stream",
     "text": [
      "[[149  40   1]\n",
      " [160  30   1]]\n",
      "[[171   6   0]\n",
      " [180   3   0]\n",
      " [190   8   0]\n",
      " [155   5   0]]\n"
     ]
    }
   ],
   "source": [
    "print(a)\n",
    "print(b)"
   ]
  },
  {
   "cell_type": "code",
   "execution_count": 87,
   "metadata": {
    "collapsed": false
   },
   "outputs": [
    {
     "name": "stdout",
     "output_type": "stream",
     "text": [
      "[171 180 190 155]\n",
      "[6 3 8 5]\n",
      "[149 160]\n",
      "[40 30]\n"
     ]
    },
    {
     "data": {
      "text/plain": [
       "<matplotlib.collections.PathCollection at 0x77f5748>"
      ]
     },
     "execution_count": 87,
     "metadata": {},
     "output_type": "execute_result"
    },
    {
     "name": "stderr",
     "output_type": "stream",
     "text": [
      "C:\\Anaconda3\\lib\\site-packages\\matplotlib\\collections.py:590: FutureWarning: elementwise comparison failed; returning scalar instead, but in the future will perform elementwise comparison\n",
      "  if self._edgecolors == str('face'):\n"
     ]
    },
    {
     "data": {
      "image/png": "[encoded data removed]",
      "text/plain": [
       "<matplotlib.figure.Figure at 0x85e6dd8>"
      ]
     },
     "metadata": {},
     "output_type": "display_data"
    }
   ],
   "source": [
    "c1=w[:,0][w[:,2]==0]\n",
    "c2=w[:,1][w[:,2]==0]\n",
    "print(c1)\n",
    "print(c2)\n",
    "\n",
    "plt.scatter(c1,c2,c='b')\n",
    "\n",
    "c1=w[:,0][w[:,2]==1]\n",
    "c2=w[:,1][w[:,2]==1]\n",
    "print(c1)\n",
    "print(c2)\n",
    "\n",
    "plt.scatter(c1,c2,c='r')"
   ]
  },
  {
   "cell_type": "code",
   "execution_count": null,
   "metadata": {
    "collapsed": true
   },
   "outputs": [],
   "source": []
  }
 ],
 "metadata": {
  "kernelspec": {
   "display_name": "Python 3",
   "language": "python",
   "name": "python3"
  },
  "language_info": {
   "codemirror_mode": {
    "name": "ipython",
    "version": 3
   },
   "file_extension": ".py",
   "mimetype": "text/x-python",
   "name": "python",
   "nbconvert_exporter": "python",
   "pygments_lexer": "ipython3",
   "version": "3.5.0"
  }
 },
 "nbformat": 4,
 "nbformat_minor": 0
}
