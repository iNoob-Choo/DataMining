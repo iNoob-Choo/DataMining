{
 "cells": [
  {
   "cell_type": "code",
   "execution_count": 1,
   "metadata": {
    "collapsed": false
   },
   "outputs": [],
   "source": [
    "import numpy as np\n",
    "import matplotlib.pyplot as plt\n",
    "from sklearn import datasets\n",
    "\n",
    "%matplotlib inline\n"
   ]
  },
  {
   "cell_type": "code",
   "execution_count": 2,
   "metadata": {
    "collapsed": true
   },
   "outputs": [],
   "source": [
    "digits = datasets.load_digits()\n",
    "x = digits.data"
   ]
  },
  {
   "cell_type": "code",
   "execution_count": 3,
   "metadata": {
    "collapsed": false
   },
   "outputs": [
    {
     "data": {
      "text/plain": [
       "<matplotlib.image.AxesImage at 0x1d029c125c0>"
      ]
     },
     "execution_count": 3,
     "metadata": {},
     "output_type": "execute_result"
    },
    {
     "data": {
      "image/png": "[encoded data removed]",
      "text/plain": [
       "<matplotlib.figure.Figure at 0x1d029e2a4e0>"
      ]
     },
     "metadata": {},
     "output_type": "display_data"
    }
   ],
   "source": [
    "plt.imshow(digits.images[0].reshape(8,8),cmap=plt.cm.gray_r)"
   ]
  },
  {
   "cell_type": "code",
   "execution_count": 4,
   "metadata": {
    "collapsed": true
   },
   "outputs": [],
   "source": [
    "#k-mean clustering => intra class is small, distance of the object from different classes is maximize, similarity group together\n",
    "#no knowledge about the image, just see the image and group together\n",
    "#know nothing about human"
   ]
  },
  {
   "cell_type": "code",
   "execution_count": 5,
   "metadata": {
    "collapsed": false
   },
   "outputs": [],
   "source": [
    "from sklearn.cluster import KMeans\n",
    "\n",
    "k = 10 #sort images into 10 group\n",
    "kmeans = KMeans(n_clusters=k)"
   ]
  },
  {
   "cell_type": "code",
   "execution_count": 6,
   "metadata": {
    "collapsed": false
   },
   "outputs": [
    {
     "data": {
      "text/plain": [
       "KMeans(algorithm='auto', copy_x=True, init='k-means++', max_iter=300,\n",
       "    n_clusters=10, n_init=10, n_jobs=1, precompute_distances='auto',\n",
       "    random_state=None, tol=0.0001, verbose=0)"
      ]
     },
     "execution_count": 6,
     "metadata": {},
     "output_type": "execute_result"
    }
   ],
   "source": [
    "#giving all the images and sort into 10 group\n",
    "kmeans.fit(x)"
   ]
  },
  {
   "cell_type": "code",
   "execution_count": 7,
   "metadata": {
    "collapsed": false
   },
   "outputs": [
    {
     "data": {
      "text/plain": [
       "array([[  0.00000000e+00,   2.77555756e-16,   3.33333333e-02,\n",
       "          1.68888889e+00,   1.10333333e+01,   1.25000000e+01,\n",
       "          4.14444444e+00,   2.44444444e-01,   2.60208521e-18,\n",
       "          5.55555556e-02,   1.87777778e+00,   8.85555556e+00,\n",
       "          1.39333333e+01,   1.23888889e+01,   5.10000000e+00,\n",
       "          3.22222222e-01,   1.30104261e-18,   1.62222222e+00,\n",
       "          8.74444444e+00,   1.27555556e+01,   1.23000000e+01,\n",
       "          1.29111111e+01,   3.82222222e+00,   1.44444444e-01,\n",
       "         -1.30104261e-18,   3.62222222e+00,   1.21222222e+01,\n",
       "          1.19111111e+01,   1.31222222e+01,   1.35000000e+01,\n",
       "          2.50000000e+00,  -2.60208521e-18,   0.00000000e+00,\n",
       "          1.92222222e+00,   6.85555556e+00,   7.23333333e+00,\n",
       "          1.16777778e+01,   1.25666667e+01,   1.84444444e+00,\n",
       "          0.00000000e+00,  -1.04083409e-17,   8.11111111e-01,\n",
       "          1.97777778e+00,   3.76666667e+00,   1.16666667e+01,\n",
       "          1.18666667e+01,   1.21111111e+00,  -1.38777878e-17,\n",
       "         -4.33680869e-18,   6.66666667e-02,   3.22222222e-01,\n",
       "          2.91111111e+00,   1.24777778e+01,   1.17111111e+01,\n",
       "          1.67777778e+00,   8.32667268e-17,  -6.50521303e-19,\n",
       "          5.55111512e-16,   5.32907052e-15,   1.76666667e+00,\n",
       "          1.12888889e+01,   1.07666667e+01,   1.74444444e+00,\n",
       "         -3.33066907e-16],\n",
       "       [  0.00000000e+00,   5.92178771e-01,   8.73184358e+00,\n",
       "          1.45921788e+01,   1.40279330e+01,   7.04469274e+00,\n",
       "          6.25698324e-01,  -2.77555756e-16,   1.11731844e-02,\n",
       "          4.18435754e+00,   1.26592179e+01,   9.16201117e+00,\n",
       "          1.12960894e+01,   1.20223464e+01,   1.89385475e+00,\n",
       "          1.11731844e-02,   5.58659218e-03,   1.90502793e+00,\n",
       "          3.74860335e+00,   3.68156425e+00,   1.18435754e+01,\n",
       "          9.92178771e+00,   8.60335196e-01,   5.55111512e-17,\n",
       "         -2.81892565e-18,   6.14525140e-02,   9.83240223e-01,\n",
       "          8.26256983e+00,   1.38156425e+01,   6.86592179e+00,\n",
       "          3.29608939e-01,  -5.63785130e-18,   0.00000000e+00,\n",
       "          6.14525140e-02,   6.75977654e-01,   4.52513966e+00,\n",
       "          1.16648045e+01,   1.23351955e+01,   2.32402235e+00,\n",
       "          0.00000000e+00,  -2.25514052e-17,   4.63687151e-01,\n",
       "          1.49720670e+00,   6.81564246e-01,   4.17877095e+00,\n",
       "          1.24022346e+01,   6.30167598e+00,   5.58659218e-03,\n",
       "         -2.42861287e-17,   9.44134078e-01,   7.34078212e+00,\n",
       "          6.60335196e+00,   8.66480447e+00,   1.37039106e+01,\n",
       "          6.02234637e+00,   1.73184358e-01,  -1.40946282e-18,\n",
       "          4.69273743e-01,   9.50837989e+00,   1.49608939e+01,\n",
       "          1.41061453e+01,   8.81564246e+00,   1.82122905e+00,\n",
       "          4.13407821e-01],\n",
       "       [  0.00000000e+00,  -9.99200722e-16,   3.07228916e-01,\n",
       "          7.16265060e+00,   1.19457831e+01,   1.93373494e+00,\n",
       "          1.50602410e-01,   5.42168675e-02,  -2.25514052e-17,\n",
       "          1.20481928e-02,   3.28313253e+00,   1.37951807e+01,\n",
       "          8.46385542e+00,   1.53012048e+00,   9.75903614e-01,\n",
       "          2.77108434e-01,  -1.12757026e-17,   6.44578313e-01,\n",
       "          1.07108434e+01,   1.15602410e+01,   4.33734940e+00,\n",
       "          5.25903614e+00,   3.87349398e+00,   3.25301205e-01,\n",
       "          6.02409639e-03,   4.75903614e+00,   1.47590361e+01,\n",
       "          5.86144578e+00,   6.87951807e+00,   1.07530120e+01,\n",
       "          6.21686747e+00,   1.80722892e-02,   0.00000000e+00,\n",
       "          8.92771084e+00,   1.48072289e+01,   9.35542169e+00,\n",
       "          1.28132530e+01,   1.43915663e+01,   5.48192771e+00,\n",
       "          0.00000000e+00,   9.63855422e-02,   6.50602410e+00,\n",
       "          1.16867470e+01,   1.23433735e+01,   1.48373494e+01,\n",
       "          1.07590361e+01,   1.56626506e+00,  -4.16333634e-17,\n",
       "          6.02409639e-02,   1.11445783e+00,   3.00000000e+00,\n",
       "          7.77710843e+00,   1.40843373e+01,   4.13253012e+00,\n",
       "          1.80722892e-02,  -4.71844785e-16,  -1.40946282e-18,\n",
       "          2.40963855e-02,   3.73493976e-01,   7.96385542e+00,\n",
       "          1.23253012e+01,   1.77108434e+00,  -5.77315973e-15,\n",
       "         -6.66133815e-16],\n",
       "       [  0.00000000e+00,  -1.16573418e-15,   1.15934066e+00,\n",
       "          1.12252747e+01,   9.53296703e+00,   1.41758242e+00,\n",
       "          5.49450549e-03,  -3.05311332e-16,  -2.51534904e-17,\n",
       "          6.04395604e-02,   7.18131868e+00,   1.45604396e+01,\n",
       "          6.19230769e+00,   8.29670330e-01,   2.74725275e-02,\n",
       "          3.74700271e-16,  -1.25767452e-17,   7.69230769e-01,\n",
       "          1.24560440e+01,   9.47252747e+00,   9.34065934e-01,\n",
       "          1.09890110e-01,   0.00000000e+00,   4.16333634e-17,\n",
       "         -3.03576608e-18,   2.29670330e+00,   1.36208791e+01,\n",
       "          8.09340659e+00,   3.87362637e+00,   1.92857143e+00,\n",
       "          1.04395604e-01,  -6.07153217e-18,   0.00000000e+00,\n",
       "          3.52747253e+00,   1.46758242e+01,   1.29175824e+01,\n",
       "          1.22527473e+01,   1.02857143e+01,   2.71978022e+00,\n",
       "          0.00000000e+00,  -2.42861287e-17,   1.86813187e+00,\n",
       "          1.45164835e+01,   1.06538462e+01,   5.57692308e+00,\n",
       "          1.01923077e+01,   9.13186813e+00,   2.30769231e-01,\n",
       "         -2.42861287e-17,   1.75824176e-01,   1.02857143e+01,\n",
       "          1.26263736e+01,   5.41758242e+00,   1.13241758e+01,\n",
       "          1.08956044e+01,   6.26373626e-01,  -1.51788304e-18,\n",
       "         -6.10622664e-16,   1.44505495e+00,   1.07362637e+01,\n",
       "          1.50989011e+01,   1.31318681e+01,   4.62087912e+00,\n",
       "          1.70329670e-01],\n",
       "       [  0.00000000e+00,   1.11607143e-01,   3.99107143e+00,\n",
       "          1.18839286e+01,   1.23214286e+01,   5.36160714e+00,\n",
       "          4.33035714e-01,  -3.33066907e-16,   8.92857143e-03,\n",
       "          8.57142857e-01,   8.24553571e+00,   1.35446429e+01,\n",
       "          1.25625000e+01,   9.87500000e+00,   1.56696429e+00,\n",
       "          4.30211422e-16,  -1.51788304e-17,   1.21428571e+00,\n",
       "          8.37053571e+00,   1.18839286e+01,   1.23348214e+01,\n",
       "          9.46428571e+00,   1.02678571e+00,  -9.02056208e-17,\n",
       "         -3.25260652e-18,   9.41964286e-01,   7.26339286e+00,\n",
       "          1.40848214e+01,   1.41785714e+01,   4.95535714e+00,\n",
       "          2.00892857e-01,  -6.50521303e-18,   0.00000000e+00,\n",
       "          7.67857143e-01,   8.00446429e+00,   1.47812500e+01,\n",
       "          1.29107143e+01,   2.18750000e+00,   1.78571429e-02,\n",
       "          0.00000000e+00,  -2.60208521e-17,   1.22767857e+00,\n",
       "          1.04553571e+01,   1.20178571e+01,   1.21294643e+01,\n",
       "          4.02678571e+00,   2.00892857e-01,   3.46944695e-17,\n",
       "          1.33928571e-02,   8.75000000e-01,   9.57142857e+00,\n",
       "          1.15714286e+01,   1.20758929e+01,   5.57589286e+00,\n",
       "          6.16071429e-01,   4.46428571e-03,   4.46428571e-03,\n",
       "          1.11607143e-01,   4.20089286e+00,   1.20089286e+01,\n",
       "          1.25982143e+01,   4.85714286e+00,   8.08035714e-01,\n",
       "          8.92857143e-03],\n",
       "       [  0.00000000e+00,   1.10810811e+00,   1.00135135e+01,\n",
       "          1.33986486e+01,   1.41891892e+01,   1.26081081e+01,\n",
       "          4.40540541e+00,   4.05405405e-02,   6.75675676e-03,\n",
       "          4.56081081e+00,   1.49391892e+01,   1.26418919e+01,\n",
       "          8.72297297e+00,   7.00000000e+00,   2.47972973e+00,\n",
       "          3.37837838e-02,   1.35135135e-02,   6.06756757e+00,\n",
       "          1.45270270e+01,   5.99324324e+00,   1.97972973e+00,\n",
       "          9.39189189e-01,   1.75675676e-01,   1.38777878e-16,\n",
       "          6.75675676e-03,   5.31756757e+00,   1.43310811e+01,\n",
       "          1.23648649e+01,   7.81081081e+00,   2.20945946e+00,\n",
       "          1.48648649e-01,  -5.20417043e-18,   0.00000000e+00,\n",
       "          1.95945946e+00,   8.18918919e+00,   1.00608108e+01,\n",
       "          1.03310811e+01,   5.54729730e+00,   6.41891892e-01,\n",
       "          0.00000000e+00,  -2.08166817e-17,   3.04054054e-01,\n",
       "          1.40540541e+00,   4.88513514e+00,   9.85135135e+00,\n",
       "          7.06081081e+00,   7.83783784e-01,  -7.97972799e-17,\n",
       "         -1.99493200e-17,   8.10810811e-01,   5.09459459e+00,\n",
       "          9.54054054e+00,   1.21418919e+01,   5.27027027e+00,\n",
       "          4.45945946e-01,  -3.88578059e-16,  -1.30104261e-18,\n",
       "          1.06081081e+00,   1.08918919e+01,   1.45540541e+01,\n",
       "          7.80405405e+00,   1.06756757e+00,   2.02702703e-02,\n",
       "         -6.10622664e-16],\n",
       "       [  0.00000000e+00,   1.60194175e-01,   4.88834951e+00,\n",
       "          1.28689320e+01,   1.40631068e+01,   1.09805825e+01,\n",
       "          4.98543689e+00,   9.41747573e-01,  -2.86229374e-17,\n",
       "          1.12135922e+00,   1.06553398e+01,   1.15145631e+01,\n",
       "          1.04320388e+01,   1.25825243e+01,   5.52427184e+00,\n",
       "          5.38834951e-01,  -1.43114687e-17,   1.17961165e+00,\n",
       "          5.45145631e+00,   2.30097087e+00,   6.78640777e+00,\n",
       "          1.15339806e+01,   3.42233010e+00,   1.11650485e-01,\n",
       "         -3.25260652e-18,   9.75728155e-01,   5.04368932e+00,\n",
       "          6.50000000e+00,   1.21553398e+01,   1.21067961e+01,\n",
       "          4.79611650e+00,   4.85436893e-03,   0.00000000e+00,\n",
       "          1.44660194e+00,   8.63592233e+00,   1.30679612e+01,\n",
       "          1.46796117e+01,   1.06893204e+01,   3.93203883e+00,\n",
       "          0.00000000e+00,  -2.60208521e-17,   1.08252427e+00,\n",
       "          5.10194175e+00,   1.14611650e+01,   1.10388350e+01,\n",
       "          3.73300971e+00,   5.38834951e-01,   1.38777878e-17,\n",
       "         -2.68882139e-17,   1.01941748e-01,   2.98058252e+00,\n",
       "          1.22572816e+01,   6.39805825e+00,   4.56310680e-01,\n",
       "          9.70873786e-03,  -5.82867088e-16,  -1.62630326e-18,\n",
       "          1.26213592e-01,   6.09223301e+00,   1.19660194e+01,\n",
       "          2.70388350e+00,   2.86407767e-01,   3.39805825e-02,\n",
       "         -7.21644966e-16],\n",
       "       [  0.00000000e+00,   1.97580645e-01,   6.45967742e+00,\n",
       "          1.24919355e+01,   1.18346774e+01,   5.63709677e+00,\n",
       "          6.25000000e-01,   8.06451613e-03,   4.03225806e-03,\n",
       "          2.59274194e+00,   1.39395161e+01,   9.15725806e+00,\n",
       "          9.36290323e+00,   1.03991935e+01,   1.29838710e+00,\n",
       "          4.03225806e-03,  -1.60461922e-17,   4.28629032e+00,\n",
       "          1.28266129e+01,   4.35080645e+00,   6.77016129e+00,\n",
       "          1.11693548e+01,   1.92338710e+00,  -1.52655666e-16,\n",
       "         -6.50521303e-19,   2.32661290e+00,   1.04758065e+01,\n",
       "          1.18588710e+01,   1.31733871e+01,   1.20403226e+01,\n",
       "          2.45564516e+00,  -1.30104261e-18,   0.00000000e+00,\n",
       "          3.02419355e-01,   3.20564516e+00,   6.28225806e+00,\n",
       "          6.82661290e+00,   1.11653226e+01,   4.24193548e+00,\n",
       "          0.00000000e+00,  -5.20417043e-18,   2.17741935e-01,\n",
       "          2.33467742e+00,   2.01209677e+00,   1.77419355e+00,\n",
       "          1.09233871e+01,   6.39516129e+00,   1.61290323e-02,\n",
       "         -2.94902991e-17,   7.41935484e-01,   8.04032258e+00,\n",
       "          5.62096774e+00,   4.68951613e+00,   1.22137097e+01,\n",
       "          6.00000000e+00,   1.12903226e-01,  -3.25260652e-19,\n",
       "          1.69354839e-01,   6.38306452e+00,   1.34596774e+01,\n",
       "          1.45201613e+01,   9.98387097e+00,   2.31854839e+00,\n",
       "          1.12903226e-01],\n",
       "       [  0.00000000e+00,   2.23463687e-02,   4.22905028e+00,\n",
       "          1.31396648e+01,   1.12681564e+01,   2.93854749e+00,\n",
       "          3.35195531e-02,  -2.77555756e-16,  -2.51534904e-17,\n",
       "          8.82681564e-01,   1.26201117e+01,   1.33687151e+01,\n",
       "          1.14078212e+01,   1.13687151e+01,   9.60893855e-01,\n",
       "          3.60822483e-16,  -1.25767452e-17,   3.72625698e+00,\n",
       "          1.42122905e+01,   5.25139665e+00,   2.10614525e+00,\n",
       "          1.21173184e+01,   3.53072626e+00,   5.55111512e-17,\n",
       "         -2.81892565e-18,   5.29608939e+00,   1.26424581e+01,\n",
       "          2.03351955e+00,   2.29050279e-01,   9.07821229e+00,\n",
       "          6.47486034e+00,  -5.63785130e-18,   0.00000000e+00,\n",
       "          5.88268156e+00,   1.14916201e+01,   8.65921788e-01,\n",
       "          3.35195531e-02,   8.81005587e+00,   7.15083799e+00,\n",
       "          0.00000000e+00,  -2.25514052e-17,   3.51396648e+00,\n",
       "          1.32849162e+01,   1.65921788e+00,   1.49162011e+00,\n",
       "          1.13519553e+01,   5.84357542e+00,  -2.08166817e-17,\n",
       "         -2.42861287e-17,   8.04469274e-01,   1.31117318e+01,\n",
       "          9.96089385e+00,   1.03519553e+01,   1.32960894e+01,\n",
       "          2.47486034e+00,   2.23463687e-02,  -1.40946282e-18,\n",
       "          5.58659218e-03,   4.19553073e+00,   1.35865922e+01,\n",
       "          1.33407821e+01,   5.48044693e+00,   3.18435754e-01,\n",
       "          1.67597765e-02],\n",
       "       [  0.00000000e+00,   9.42857143e-01,   1.01885714e+01,\n",
       "          1.44400000e+01,   7.77142857e+00,   9.82857143e-01,\n",
       "         -1.33226763e-15,  -2.77555756e-16,   2.28571429e-02,\n",
       "          5.24000000e+00,   1.37200000e+01,   1.26228571e+01,\n",
       "          1.16914286e+01,   3.23428571e+00,   1.71428571e-02,\n",
       "          3.60822483e-16,   1.14285714e-02,   4.56000000e+00,\n",
       "          8.11428571e+00,   6.13714286e+00,   1.21600000e+01,\n",
       "          3.56000000e+00,   1.71428571e-02,   7.63278329e-17,\n",
       "         -2.81892565e-18,   9.65714286e-01,   2.81714286e+00,\n",
       "          7.00571429e+00,   1.25371429e+01,   2.56000000e+00,\n",
       "          4.00000000e-02,  -5.63785130e-18,   0.00000000e+00,\n",
       "          4.57142857e-02,   1.57142857e+00,   9.89714286e+00,\n",
       "          1.06971429e+01,   1.45142857e+00,  -7.10542736e-15,\n",
       "          0.00000000e+00,  -2.25514052e-17,   2.51428571e-01,\n",
       "          4.45714286e+00,   1.12457143e+01,   7.74285714e+00,\n",
       "          2.37142857e+00,   8.45714286e-01,   1.14285714e-02,\n",
       "         -2.34187669e-17,   1.19428571e+00,   1.09942857e+01,\n",
       "          1.37314286e+01,   1.19257143e+01,   1.11600000e+01,\n",
       "          7.66857143e+00,   1.10285714e+00,  -1.40946282e-18,\n",
       "          9.31428571e-01,   1.03885714e+01,   1.44685714e+01,\n",
       "          1.35028571e+01,   1.23542857e+01,   8.96571429e+00,\n",
       "          2.95428571e+00]])"
      ]
     },
     "execution_count": 7,
     "metadata": {},
     "output_type": "execute_result"
    }
   ],
   "source": [
    "#centroid,cluster_centers_ = 10\n",
    "kmeans.cluster_centers_"
   ]
  },
  {
   "cell_type": "code",
   "execution_count": 8,
   "metadata": {
    "collapsed": false
   },
   "outputs": [
    {
     "data": {
      "text/plain": [
       "<matplotlib.image.AxesImage at 0x1d02c434e10>"
      ]
     },
     "execution_count": 8,
     "metadata": {},
     "output_type": "execute_result"
    },
    {
     "data": {
      "image/png": "[encoded data removed]",
      "text/plain": [
       "<matplotlib.figure.Figure at 0x1d02a344fd0>"
      ]
     },
     "metadata": {},
     "output_type": "display_data"
    }
   ],
   "source": [
    "plt.imshow(kmeans.cluster_centers_[0].reshape(8,8),cmap=plt.cm.gray_r)"
   ]
  },
  {
   "cell_type": "code",
   "execution_count": 9,
   "metadata": {
    "collapsed": false
   },
   "outputs": [
    {
     "data": {
      "image/png": "[encoded data removed]",
      "text/plain": [
       "<matplotlib.figure.Figure at 0x1d02b3b6c88>"
      ]
     },
     "metadata": {},
     "output_type": "display_data"
    }
   ],
   "source": [
    "#sort out the similar object together\n",
    "fig,axes = plt.subplots(ncols=k)\n",
    "\n",
    "for i in range (k):\n",
    "    axes[i].imshow(kmeans.cluster_centers_[i].reshape(8,8),cmap=plt.cm.gray_r)"
   ]
  },
  {
   "cell_type": "code",
   "execution_count": 10,
   "metadata": {
    "collapsed": false
   },
   "outputs": [
    {
     "name": "stderr",
     "output_type": "stream",
     "text": [
      "C:\\Users\\User\\Anaconda3\\lib\\site-packages\\sklearn\\utils\\validation.py:395: DeprecationWarning: Passing 1d arrays as data is deprecated in 0.17 and will raise ValueError in 0.19. Reshape your data either using X.reshape(-1, 1) if your data has a single feature or X.reshape(1, -1) if it contains a single sample.\n",
      "  DeprecationWarning)\n"
     ]
    },
    {
     "data": {
      "text/plain": [
       "array([8])"
      ]
     },
     "execution_count": 10,
     "metadata": {},
     "output_type": "execute_result"
    }
   ],
   "source": [
    "#do predict, predict the 0 image at where\n",
    "kmeans.predict(x[0])"
   ]
  },
  {
   "cell_type": "code",
   "execution_count": 11,
   "metadata": {
    "collapsed": false
   },
   "outputs": [
    {
     "name": "stdout",
     "output_type": "stream",
     "text": [
      "[  0.   0.   5.  13.   9.   1.   0.   0.   0.   0.  13.  15.  10.  15.   5.\n",
      "   0.   0.   3.  15.   2.   0.  11.   8.   0.   0.   4.  12.   0.   0.   8.\n",
      "   8.   0.   0.   5.   8.   0.   0.   9.   8.   0.   0.   4.  11.   0.   1.\n",
      "  12.   7.   0.   0.   2.  14.   5.  10.  12.   0.   0.   0.   0.   6.  13.\n",
      "  10.   0.   0.   0.]\n"
     ]
    }
   ],
   "source": [
    "print(x[0])"
   ]
  },
  {
   "cell_type": "code",
   "execution_count": 12,
   "metadata": {
    "collapsed": false
   },
   "outputs": [
    {
     "data": {
      "text/plain": [
       "(1797, 10)"
      ]
     },
     "execution_count": 12,
     "metadata": {},
     "output_type": "execute_result"
    }
   ],
   "source": [
    "#use average distance\n",
    "from scipy.spatial.distance import cdist\n",
    "\n",
    "cdist(x,kmeans.cluster_centers_).shape"
   ]
  },
  {
   "cell_type": "code",
   "execution_count": 13,
   "metadata": {
    "collapsed": false
   },
   "outputs": [
    {
     "data": {
      "text/plain": [
       "array([[ 46.73469512,  39.05755121,  40.62842111, ...,  32.30413796,\n",
       "         14.00270609,  46.29322479],\n",
       "       [ 36.03730406,  43.5429617 ,  39.33674422, ...,  44.30039584,\n",
       "         54.07642865,  38.2712847 ],\n",
       "       [ 39.80394391,  45.77117747,  44.0679232 , ...,  45.47048927,\n",
       "         47.75212793,  40.16565453],\n",
       "       ..., \n",
       "       [ 41.88872237,  43.88641528,  37.06336059, ...,  40.89484044,\n",
       "         44.62316233,  39.11842574],\n",
       "       [ 35.14823459,  35.26508734,  42.09248194, ...,  25.37812572,\n",
       "         34.56429231,  45.07251083],\n",
       "       [ 45.62916411,  36.6803437 ,  43.17246082, ...,  32.72232996,\n",
       "         40.94495312,  37.1557314 ]])"
      ]
     },
     "execution_count": 13,
     "metadata": {},
     "output_type": "execute_result"
    }
   ],
   "source": [
    "cdist(x,kmeans.cluster_centers_)"
   ]
  },
  {
   "cell_type": "code",
   "execution_count": 14,
   "metadata": {
    "collapsed": false
   },
   "outputs": [
    {
     "data": {
      "text/plain": [
       "array([ 14.00270609,  25.29788883,  31.193537  , ...,  25.64665741,\n",
       "        25.37812572,  32.72232996])"
      ]
     },
     "execution_count": 14,
     "metadata": {},
     "output_type": "execute_result"
    }
   ],
   "source": [
    "#closest distance from the cluster\n",
    "np.min(cdist(x,kmeans.cluster_centers_),axis=1)"
   ]
  },
  {
   "cell_type": "code",
   "execution_count": 15,
   "metadata": {
    "collapsed": false
   },
   "outputs": [
    {
     "data": {
      "text/plain": [
       "44751.09394619854"
      ]
     },
     "execution_count": 15,
     "metadata": {},
     "output_type": "execute_result"
    }
   ],
   "source": [
    "#total distance\n",
    "np.sum(np.min(cdist(x,kmeans.cluster_centers_),axis=1))"
   ]
  },
  {
   "cell_type": "code",
   "execution_count": 16,
   "metadata": {
    "collapsed": false
   },
   "outputs": [
    {
     "data": {
      "text/plain": [
       "24.90322423272039"
      ]
     },
     "execution_count": 16,
     "metadata": {},
     "output_type": "execute_result"
    }
   ],
   "source": [
    "#mean\n",
    "np.mean(np.min(cdist(x,kmeans.cluster_centers_),axis=1))"
   ]
  },
  {
   "cell_type": "code",
   "execution_count": 17,
   "metadata": {
    "collapsed": true
   },
   "outputs": [],
   "source": [
    "def MeanDistortion(x,clusters):\n",
    "    return np.mean(np.min(cdist(x,clusters),axis=1))"
   ]
  },
  {
   "cell_type": "code",
   "execution_count": 18,
   "metadata": {
    "collapsed": false
   },
   "outputs": [
    {
     "data": {
      "text/plain": [
       "24.90322423272039"
      ]
     },
     "execution_count": 18,
     "metadata": {},
     "output_type": "execute_result"
    }
   ],
   "source": [
    "MeanDistortion(x,kmeans.cluster_centers_)"
   ]
  },
  {
   "cell_type": "code",
   "execution_count": 19,
   "metadata": {
    "collapsed": false
   },
   "outputs": [
    {
     "data": {
      "text/plain": [
       "[<matplotlib.lines.Line2D at 0x1d02bc0b588>]"
      ]
     },
     "execution_count": 19,
     "metadata": {},
     "output_type": "execute_result"
    },
    {
     "data": {
      "image/png": "[encoded data removed]",
      "text/plain": [
       "<matplotlib.figure.Figure at 0x1d02c6cefd0>"
      ]
     },
     "metadata": {},
     "output_type": "display_data"
    }
   ],
   "source": [
    "# k=2 to k=50 , then plot a graph\n",
    "ks = range(2,50)\n",
    "\n",
    "meanDistort =[]\n",
    "\n",
    "for k in ks:\n",
    "    kmeans = KMeans(n_clusters=k)\n",
    "    kmeans.fit(x)\n",
    "    md = MeanDistortion(x,kmeans.cluster_centers_)\n",
    "    \n",
    "    #print(md)\n",
    "    \n",
    "    meanDistort.append(md)\n",
    "    \n",
    "plt.plot(meanDistort)"
   ]
  },
  {
   "cell_type": "code",
   "execution_count": 20,
   "metadata": {
    "collapsed": true
   },
   "outputs": [],
   "source": [
    "#to determine the k-algorithm\n",
    "\n",
    "#http://scikit-learn.org/stable/auto_examples/cluster/plot_color_quantization.html\n"
   ]
  },
  {
   "cell_type": "code",
   "execution_count": 21,
   "metadata": {
    "collapsed": false
   },
   "outputs": [
    {
     "name": "stdout",
     "output_type": "stream",
     "text": [
      "Automatically created module for IPython interactive environment\n"
     ]
    },
    {
     "ename": "ImportError",
     "evalue": "The Python Imaging Library (PIL) is required to load data from jpeg files",
     "output_type": "error",
     "traceback": [
      "\u001b[0;31m---------------------------------------------------------------------------\u001b[0m",
      "\u001b[0;31mImportError\u001b[0m                               Traceback (most recent call last)",
      "\u001b[0;32mC:\\Users\\User\\Anaconda3\\lib\\site-packages\\sklearn\\datasets\\base.py\u001b[0m in \u001b[0;36mload_sample_images\u001b[0;34m()\u001b[0m\n\u001b[1;32m    678\u001b[0m         \u001b[1;32mtry\u001b[0m\u001b[1;33m:\u001b[0m\u001b[1;33m\u001b[0m\u001b[0m\n\u001b[0;32m--> 679\u001b[0;31m             \u001b[1;32mfrom\u001b[0m \u001b[0mscipy\u001b[0m\u001b[1;33m.\u001b[0m\u001b[0mmisc\u001b[0m \u001b[1;32mimport\u001b[0m \u001b[0mimread\u001b[0m\u001b[1;33m\u001b[0m\u001b[0m\n\u001b[0m\u001b[1;32m    680\u001b[0m         \u001b[1;32mexcept\u001b[0m \u001b[0mImportError\u001b[0m\u001b[1;33m:\u001b[0m\u001b[1;33m\u001b[0m\u001b[0m\n",
      "\u001b[0;31mImportError\u001b[0m: cannot import name 'imread'",
      "\nDuring handling of the above exception, another exception occurred:\n",
      "\u001b[0;31mImportError\u001b[0m                               Traceback (most recent call last)",
      "\u001b[0;32mC:\\Users\\User\\Anaconda3\\lib\\site-packages\\scipy\\misc\\pilutil.py\u001b[0m in \u001b[0;36m<module>\u001b[0;34m()\u001b[0m\n\u001b[1;32m     18\u001b[0m \u001b[1;32mtry\u001b[0m\u001b[1;33m:\u001b[0m\u001b[1;33m\u001b[0m\u001b[0m\n\u001b[0;32m---> 19\u001b[0;31m     \u001b[1;32mfrom\u001b[0m \u001b[0mPIL\u001b[0m \u001b[1;32mimport\u001b[0m \u001b[0mImage\u001b[0m\u001b[1;33m,\u001b[0m \u001b[0mImageFilter\u001b[0m\u001b[1;33m\u001b[0m\u001b[0m\n\u001b[0m\u001b[1;32m     20\u001b[0m \u001b[1;32mexcept\u001b[0m \u001b[0mImportError\u001b[0m\u001b[1;33m:\u001b[0m\u001b[1;33m\u001b[0m\u001b[0m\n",
      "\u001b[0;31mImportError\u001b[0m: No module named 'PIL'",
      "\nDuring handling of the above exception, another exception occurred:\n",
      "\u001b[0;31mImportError\u001b[0m                               Traceback (most recent call last)",
      "\u001b[0;32mC:\\Users\\User\\Anaconda3\\lib\\site-packages\\sklearn\\datasets\\base.py\u001b[0m in \u001b[0;36mload_sample_images\u001b[0;34m()\u001b[0m\n\u001b[1;32m    680\u001b[0m         \u001b[1;32mexcept\u001b[0m \u001b[0mImportError\u001b[0m\u001b[1;33m:\u001b[0m\u001b[1;33m\u001b[0m\u001b[0m\n\u001b[0;32m--> 681\u001b[0;31m             \u001b[1;32mfrom\u001b[0m \u001b[0mscipy\u001b[0m\u001b[1;33m.\u001b[0m\u001b[0mmisc\u001b[0m\u001b[1;33m.\u001b[0m\u001b[0mpilutil\u001b[0m \u001b[1;32mimport\u001b[0m \u001b[0mimread\u001b[0m\u001b[1;33m\u001b[0m\u001b[0m\n\u001b[0m\u001b[1;32m    682\u001b[0m     \u001b[1;32mexcept\u001b[0m \u001b[0mImportError\u001b[0m\u001b[1;33m:\u001b[0m\u001b[1;33m\u001b[0m\u001b[0m\n",
      "\u001b[0;32mC:\\Users\\User\\Anaconda3\\lib\\site-packages\\scipy\\misc\\pilutil.py\u001b[0m in \u001b[0;36m<module>\u001b[0;34m()\u001b[0m\n\u001b[1;32m     20\u001b[0m \u001b[1;32mexcept\u001b[0m \u001b[0mImportError\u001b[0m\u001b[1;33m:\u001b[0m\u001b[1;33m\u001b[0m\u001b[0m\n\u001b[0;32m---> 21\u001b[0;31m     \u001b[1;32mimport\u001b[0m \u001b[0mImage\u001b[0m\u001b[1;33m\u001b[0m\u001b[0m\n\u001b[0m\u001b[1;32m     22\u001b[0m     \u001b[1;32mimport\u001b[0m \u001b[0mImageFilter\u001b[0m\u001b[1;33m\u001b[0m\u001b[0m\n",
      "\u001b[0;31mImportError\u001b[0m: No module named 'Image'",
      "\nDuring handling of the above exception, another exception occurred:\n",
      "\u001b[0;31mImportError\u001b[0m                               Traceback (most recent call last)",
      "\u001b[0;32m<ipython-input-21-365a34c1ac0a>\u001b[0m in \u001b[0;36m<module>\u001b[0;34m()\u001b[0m\n\u001b[1;32m     17\u001b[0m \u001b[1;33m\u001b[0m\u001b[0m\n\u001b[1;32m     18\u001b[0m \u001b[1;31m# Load the Summer Palace photo\u001b[0m\u001b[1;33m\u001b[0m\u001b[1;33m\u001b[0m\u001b[0m\n\u001b[0;32m---> 19\u001b[0;31m \u001b[0mchina\u001b[0m \u001b[1;33m=\u001b[0m \u001b[0mload_sample_image\u001b[0m\u001b[1;33m(\u001b[0m\u001b[1;34m\"china.jpg\"\u001b[0m\u001b[1;33m)\u001b[0m\u001b[1;33m\u001b[0m\u001b[0m\n\u001b[0m\u001b[1;32m     20\u001b[0m \u001b[1;33m\u001b[0m\u001b[0m\n\u001b[1;32m     21\u001b[0m \u001b[1;31m# Convert to floats instead of the default 8 bits integer coding. Dividing by\u001b[0m\u001b[1;33m\u001b[0m\u001b[1;33m\u001b[0m\u001b[0m\n",
      "\u001b[0;32mC:\\Users\\User\\Anaconda3\\lib\\site-packages\\sklearn\\datasets\\base.py\u001b[0m in \u001b[0;36mload_sample_image\u001b[0;34m(image_name)\u001b[0m\n\u001b[1;32m    725\u001b[0m     \u001b[1;33m(\u001b[0m\u001b[1;36m427\u001b[0m\u001b[1;33m,\u001b[0m \u001b[1;36m640\u001b[0m\u001b[1;33m,\u001b[0m \u001b[1;36m3\u001b[0m\u001b[1;33m)\u001b[0m\u001b[1;33m\u001b[0m\u001b[0m\n\u001b[1;32m    726\u001b[0m     \"\"\"\n\u001b[0;32m--> 727\u001b[0;31m     \u001b[0mimages\u001b[0m \u001b[1;33m=\u001b[0m \u001b[0mload_sample_images\u001b[0m\u001b[1;33m(\u001b[0m\u001b[1;33m)\u001b[0m\u001b[1;33m\u001b[0m\u001b[0m\n\u001b[0m\u001b[1;32m    728\u001b[0m     \u001b[0mindex\u001b[0m \u001b[1;33m=\u001b[0m \u001b[1;32mNone\u001b[0m\u001b[1;33m\u001b[0m\u001b[0m\n\u001b[1;32m    729\u001b[0m     \u001b[1;32mfor\u001b[0m \u001b[0mi\u001b[0m\u001b[1;33m,\u001b[0m \u001b[0mfilename\u001b[0m \u001b[1;32min\u001b[0m \u001b[0menumerate\u001b[0m\u001b[1;33m(\u001b[0m\u001b[0mimages\u001b[0m\u001b[1;33m.\u001b[0m\u001b[0mfilenames\u001b[0m\u001b[1;33m)\u001b[0m\u001b[1;33m:\u001b[0m\u001b[1;33m\u001b[0m\u001b[0m\n",
      "\u001b[0;32mC:\\Users\\User\\Anaconda3\\lib\\site-packages\\sklearn\\datasets\\base.py\u001b[0m in \u001b[0;36mload_sample_images\u001b[0;34m()\u001b[0m\n\u001b[1;32m    681\u001b[0m             \u001b[1;32mfrom\u001b[0m \u001b[0mscipy\u001b[0m\u001b[1;33m.\u001b[0m\u001b[0mmisc\u001b[0m\u001b[1;33m.\u001b[0m\u001b[0mpilutil\u001b[0m \u001b[1;32mimport\u001b[0m \u001b[0mimread\u001b[0m\u001b[1;33m\u001b[0m\u001b[0m\n\u001b[1;32m    682\u001b[0m     \u001b[1;32mexcept\u001b[0m \u001b[0mImportError\u001b[0m\u001b[1;33m:\u001b[0m\u001b[1;33m\u001b[0m\u001b[0m\n\u001b[0;32m--> 683\u001b[0;31m         raise ImportError(\"The Python Imaging Library (PIL) \"\n\u001b[0m\u001b[1;32m    684\u001b[0m                           \"is required to load data from jpeg files\")\n\u001b[1;32m    685\u001b[0m     \u001b[0mmodule_path\u001b[0m \u001b[1;33m=\u001b[0m \u001b[0mjoin\u001b[0m\u001b[1;33m(\u001b[0m\u001b[0mdirname\u001b[0m\u001b[1;33m(\u001b[0m\u001b[0m__file__\u001b[0m\u001b[1;33m)\u001b[0m\u001b[1;33m,\u001b[0m \u001b[1;34m\"images\"\u001b[0m\u001b[1;33m)\u001b[0m\u001b[1;33m\u001b[0m\u001b[0m\n",
      "\u001b[0;31mImportError\u001b[0m: The Python Imaging Library (PIL) is required to load data from jpeg files"
     ]
    }
   ],
   "source": [
    "# Authors: Robert Layton <robertlayton@gmail.com>\n",
    "#          Olivier Grisel <olivier.grisel@ensta.org>\n",
    "#          Mathieu Blondel <mathieu@mblondel.org>\n",
    "#\n",
    "# License: BSD 3 clause\n",
    "\n",
    "print(__doc__)\n",
    "import numpy as np\n",
    "import matplotlib.pyplot as plt\n",
    "from sklearn.cluster import KMeans\n",
    "from sklearn.metrics import pairwise_distances_argmin\n",
    "from sklearn.datasets import load_sample_image\n",
    "from sklearn.utils import shuffle\n",
    "from time import time\n",
    "\n",
    "n_colors = 64\n",
    "\n",
    "# Load the Summer Palace photo\n",
    "china = load_sample_image(\"china.jpg\")\n",
    "\n",
    "# Convert to floats instead of the default 8 bits integer coding. Dividing by\n",
    "# 255 is important so that plt.imshow behaves works well on float data (need to\n",
    "# be in the range [0-1])\n",
    "china = np.array(china, dtype=np.float64) / 255\n",
    "\n",
    "# Load Image and transform to a 2D numpy array.\n",
    "w, h, d = original_shape = tuple(china.shape)\n",
    "assert d == 3\n",
    "image_array = np.reshape(china, (w * h, d))\n",
    "\n",
    "print(\"Fitting model on a small sub-sample of the data\")\n",
    "t0 = time()\n",
    "#shuffle for the first 1000 and pick it \n",
    "image_array_sample = shuffle(image_array, random_state=0)[:1000]\n",
    "kmeans = KMeans(n_clusters=n_colors, random_state=0).fit(image_array_sample)\n",
    "print(\"done in %0.3fs.\" % (time() - t0))\n",
    "\n",
    "# Get labels for all points\n",
    "print(\"Predicting color indices on the full image (k-means)\")\n",
    "t0 = time()\n",
    "labels = kmeans.predict(image_array)\n",
    "print(\"done in %0.3fs.\" % (time() - t0))\n",
    "\n",
    "\n",
    "codebook_random = shuffle(image_array, random_state=0)[:n_colors + 1]\n",
    "print(\"Predicting color indices on the full image (random)\")\n",
    "t0 = time()\n",
    "labels_random = pairwise_distances_argmin(codebook_random,\n",
    "                                          image_array,\n",
    "                                          axis=0)\n",
    "print(\"done in %0.3fs.\" % (time() - t0))\n",
    "\n",
    "\n",
    "def recreate_image(codebook, labels, w, h):\n",
    "    \"\"\"Recreate the (compressed) image from the code book & labels\"\"\"\n",
    "    d = codebook.shape[1]\n",
    "    image = np.zeros((w, h, d))\n",
    "    label_idx = 0\n",
    "    for i in range(w):\n",
    "        for j in range(h):\n",
    "            image[i][j] = codebook[labels[label_idx]]\n",
    "            label_idx += 1\n",
    "    return image\n",
    "\n",
    "# Display all results, alongside original image\n",
    "plt.figure(1)\n",
    "plt.clf()\n",
    "ax = plt.axes([0, 0, 1, 1])\n",
    "plt.axis('off')\n",
    "plt.title('Original image (96,615 colors)')\n",
    "plt.imshow(china)\n",
    "\n",
    "plt.figure(2)\n",
    "plt.clf()\n",
    "ax = plt.axes([0, 0, 1, 1])\n",
    "plt.axis('off')\n",
    "plt.title('Quantized image (64 colors, K-Means)')\n",
    "plt.imshow(recreate_image(kmeans.cluster_centers_, labels, w, h))\n",
    "\n",
    "plt.figure(3)\n",
    "plt.clf()\n",
    "ax = plt.axes([0, 0, 1, 1])\n",
    "plt.axis('off')\n",
    "plt.title('Quantized image (64 colors, Random)')\n",
    "plt.imshow(recreate_image(codebook_random, labels_random, w, h))\n",
    "plt.show()"
   ]
  },
  {
   "cell_type": "code",
   "execution_count": null,
   "metadata": {
    "collapsed": true
   },
   "outputs": [],
   "source": []
  }
 ],
 "metadata": {
  "kernelspec": {
   "display_name": "Python [default]",
   "language": "python",
   "name": "python3"
  }
 },
 "nbformat": 4,
 "nbformat_minor": 0
}
